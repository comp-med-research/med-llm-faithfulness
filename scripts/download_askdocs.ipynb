{
 "cells": [
  {
   "cell_type": "code",
   "execution_count": 1,
   "id": "67ff68b0",
   "metadata": {},
   "outputs": [],
   "source": [
    "from datasets import load_dataset"
   ]
  },
  {
   "cell_type": "code",
   "execution_count": 2,
   "id": "0738bb0a",
   "metadata": {},
   "outputs": [
    {
     "data": {
      "application/vnd.jupyter.widget-view+json": {
       "model_id": "b7ec041da87344ce820d3bf844bc6ced",
       "version_major": 2,
       "version_minor": 0
      },
      "text/plain": [
       "Downloading data:   0%|          | 0.00/45.4M [00:00<?, ?B/s]"
      ]
     },
     "metadata": {},
     "output_type": "display_data"
    },
    {
     "data": {
      "application/vnd.jupyter.widget-view+json": {
       "model_id": "d1eab9d5cbfb4e5297cefa713fcfcedd",
       "version_major": 2,
       "version_minor": 0
      },
      "text/plain": [
       "Downloading data:   0%|          | 0.00/49.1M [00:00<?, ?B/s]"
      ]
     },
     "metadata": {},
     "output_type": "display_data"
    },
    {
     "data": {
      "application/vnd.jupyter.widget-view+json": {
       "model_id": "49f775ae712f4ee8a931b27c1cabcc34",
       "version_major": 2,
       "version_minor": 0
      },
      "text/plain": [
       "Downloading data:   0%|          | 0.00/11.0M [00:00<?, ?B/s]"
      ]
     },
     "metadata": {},
     "output_type": "display_data"
    },
    {
     "data": {
      "application/vnd.jupyter.widget-view+json": {
       "model_id": "59fb80c624de4a05902f7677d06cd83e",
       "version_major": 2,
       "version_minor": 0
      },
      "text/plain": [
       "Downloading data:   0%|          | 0.00/12.5M [00:00<?, ?B/s]"
      ]
     },
     "metadata": {},
     "output_type": "display_data"
    },
    {
     "data": {
      "application/vnd.jupyter.widget-view+json": {
       "model_id": "514ad1680aff475b86774dcc174cdff9",
       "version_major": 2,
       "version_minor": 0
      },
      "text/plain": [
       "Downloading data:   0%|          | 0.00/10.4M [00:00<?, ?B/s]"
      ]
     },
     "metadata": {},
     "output_type": "display_data"
    },
    {
     "data": {
      "application/vnd.jupyter.widget-view+json": {
       "model_id": "64346c7a8b1a485081355a106e4f8814",
       "version_major": 2,
       "version_minor": 0
      },
      "text/plain": [
       "Downloading data:   0%|          | 0.00/11.2M [00:00<?, ?B/s]"
      ]
     },
     "metadata": {},
     "output_type": "display_data"
    },
    {
     "data": {
      "application/vnd.jupyter.widget-view+json": {
       "model_id": "e7b97f52633042888a82547917e13902",
       "version_major": 2,
       "version_minor": 0
      },
      "text/plain": [
       "Downloading data:   0%|          | 0.00/180M [00:00<?, ?B/s]"
      ]
     },
     "metadata": {},
     "output_type": "display_data"
    },
    {
     "data": {
      "application/vnd.jupyter.widget-view+json": {
       "model_id": "bbeeeff089f74201a456170b30356ffd",
       "version_major": 2,
       "version_minor": 0
      },
      "text/plain": [
       "Downloading data:   0%|          | 0.00/165M [00:00<?, ?B/s]"
      ]
     },
     "metadata": {},
     "output_type": "display_data"
    },
    {
     "data": {
      "application/vnd.jupyter.widget-view+json": {
       "model_id": "12d023a33f364054bc4eb05408958803",
       "version_major": 2,
       "version_minor": 0
      },
      "text/plain": [
       "Generating train_pt split: 0 examples [00:00, ? examples/s]"
      ]
     },
     "metadata": {},
     "output_type": "display_data"
    },
    {
     "data": {
      "application/vnd.jupyter.widget-view+json": {
       "model_id": "f1db8b21fa9a4f8f9f65d6d88cb93ef7",
       "version_major": 2,
       "version_minor": 0
      },
      "text/plain": [
       "Generating train_en split: 0 examples [00:00, ? examples/s]"
      ]
     },
     "metadata": {},
     "output_type": "display_data"
    },
    {
     "data": {
      "application/vnd.jupyter.widget-view+json": {
       "model_id": "f083a44e3f1b427a81b8e503515f2c3b",
       "version_major": 2,
       "version_minor": 0
      },
      "text/plain": [
       "Generating validation_pt split: 0 examples [00:00, ? examples/s]"
      ]
     },
     "metadata": {},
     "output_type": "display_data"
    },
    {
     "data": {
      "application/vnd.jupyter.widget-view+json": {
       "model_id": "0d9982e180534c038944f7176ddb9015",
       "version_major": 2,
       "version_minor": 0
      },
      "text/plain": [
       "Generating validation_en split: 0 examples [00:00, ? examples/s]"
      ]
     },
     "metadata": {},
     "output_type": "display_data"
    },
    {
     "data": {
      "application/vnd.jupyter.widget-view+json": {
       "model_id": "7120ec8c5229444b9c450254e6a5d5db",
       "version_major": 2,
       "version_minor": 0
      },
      "text/plain": [
       "Generating test_pt split: 0 examples [00:00, ? examples/s]"
      ]
     },
     "metadata": {},
     "output_type": "display_data"
    },
    {
     "data": {
      "application/vnd.jupyter.widget-view+json": {
       "model_id": "45365a5b134044f99b2a095cbc7829b8",
       "version_major": 2,
       "version_minor": 0
      },
      "text/plain": [
       "Generating test_en split: 0 examples [00:00, ? examples/s]"
      ]
     },
     "metadata": {},
     "output_type": "display_data"
    },
    {
     "data": {
      "application/vnd.jupyter.widget-view+json": {
       "model_id": "080726c9788a420280623088060104f9",
       "version_major": 2,
       "version_minor": 0
      },
      "text/plain": [
       "Generating external_pt split: 0 examples [00:00, ? examples/s]"
      ]
     },
     "metadata": {},
     "output_type": "display_data"
    },
    {
     "data": {
      "application/vnd.jupyter.widget-view+json": {
       "model_id": "1af42baceec642bfac320a19d0681c0f",
       "version_major": 2,
       "version_minor": 0
      },
      "text/plain": [
       "Generating external_en split: 0 examples [00:00, ? examples/s]"
      ]
     },
     "metadata": {},
     "output_type": "display_data"
    },
    {
     "name": "stdout",
     "output_type": "stream",
     "text": [
      "{'q_id': '3yzn3p', 'title': 'Chest discomfort question', 'selftext': 'On and off for the last year or so, I\\'ve been having occasional discomfort in my chest, particularly on the left side. The first time it happened, I was understandably worried and went to the emergency room. After some X-rays and an hour on an EKG, they sent me home saying they couldn\\'t find evidence of anything wrong. Since then, it\\'s happened several more times, occasionally accompanied by a feeling of shortness of breath. Whenever it happens, I check my pulse and nothing seems wrong (occasionally the pulse line looks a bit odd on my phone, but that could easily be an issue caused by my hand moving or something) and I never actually have any trouble drawing in breath.  Over the last few days, this has been recurring periodically, along with an occasional feeling of tightness in my throat and one or two bouts of transient weakness.\\n\\nAs background, I had two spontaneous pneumothoraxes in my left lung a little over a decade ago, the second of which was treated with a chest tube and eventually a pluerodesis. I think I had some minor nerve damage as a result of the surgery; at the very least, the entire left side of my chest was left numb for several months. Other than that and a broken right clavicle, I\\'ve never had any major health issues. I don\\'t smoke, use drugs, or drink, and while I\\'m a little overweight (6\\'0\", ~190 lbs, male), I try to at get at least a little light cardio exercise on a daily basis. I\\'m 28.\\n\\nSo... Any idea as to what\\'s going on?', 'document': '', 'subreddit': 'AskDocs', 'answers': {'a_id': ['cyi6ywp'], 'text': [\"This could be a complex problem, or a simple one, it's difficult to say.\\n\\nYou're a bit young for cardiac pain (classic heart disease) though you should probably go for a stress EKG where they make you walk/run on a treadmill for a while and see what's happening. Often a resting EKG is normal in people with heart disease. You should also have a chest X-ray and even a CT scan of your chest. With your history of pneumothoraces I would go for a scan because you could have pleuritic pain and the inflammation is difficult to see on a normal chest X-ray. A pleurodesis could cause chronic inflammation and irritation in the area that leads to discomfort. Be aware that the are many causes for chest pain and the best person to see is a good internist who will examine you, send you for many tests and hopefully arrange a stress EKG and scan of your chest.\"], 'score': [3]}, 'title_urls': [], 'selftext_urls': [], 'answers_urls': []}\n"
     ]
    }
   ],
   "source": [
    "# Load English training split\n",
    "train_dataset = load_dataset(\"ju-resplande/askD\", split=\"train_en\")\n",
    "\n",
    "print(train_dataset[0])"
   ]
  },
  {
   "cell_type": "code",
   "execution_count": 4,
   "id": "7937a956",
   "metadata": {},
   "outputs": [
    {
     "data": {
      "application/vnd.jupyter.widget-view+json": {
       "model_id": "1f0d8cd7cd914b22a3a0acc1b9bf1fcc",
       "version_major": 2,
       "version_minor": 0
      },
      "text/plain": [
       "Creating parquet from Arrow format:   0%|          | 0/25 [00:00<?, ?ba/s]"
      ]
     },
     "metadata": {},
     "output_type": "display_data"
    },
    {
     "data": {
      "text/plain": [
       "45505564"
      ]
     },
     "execution_count": 4,
     "metadata": {},
     "output_type": "execute_result"
    }
   ],
   "source": [
    "train_dataset.to_parquet(\"../data/raw/askdocs/askdocs_train_en.parquet\")\n"
   ]
  },
  {
   "cell_type": "code",
   "execution_count": null,
   "id": "fb499d74",
   "metadata": {},
   "outputs": [],
   "source": [
    "import pandas as pd\n",
    "\n",
    "# Load Parquet\n",
    "df = pd.read_parquet(\"../data/raw/askdocs/askdocs_train_en.parquet\")\n"
   ]
  },
  {
   "cell_type": "code",
   "execution_count": 6,
   "id": "bcac9f21",
   "metadata": {},
   "outputs": [
    {
     "data": {
      "text/html": [
       "<div>\n",
       "<style scoped>\n",
       "    .dataframe tbody tr th:only-of-type {\n",
       "        vertical-align: middle;\n",
       "    }\n",
       "\n",
       "    .dataframe tbody tr th {\n",
       "        vertical-align: top;\n",
       "    }\n",
       "\n",
       "    .dataframe thead th {\n",
       "        text-align: right;\n",
       "    }\n",
       "</style>\n",
       "<table border=\"1\" class=\"dataframe\">\n",
       "  <thead>\n",
       "    <tr style=\"text-align: right;\">\n",
       "      <th></th>\n",
       "      <th>q_id</th>\n",
       "      <th>title</th>\n",
       "      <th>selftext</th>\n",
       "      <th>document</th>\n",
       "      <th>subreddit</th>\n",
       "      <th>answers</th>\n",
       "      <th>title_urls</th>\n",
       "      <th>selftext_urls</th>\n",
       "      <th>answers_urls</th>\n",
       "    </tr>\n",
       "  </thead>\n",
       "  <tbody>\n",
       "    <tr>\n",
       "      <th>0</th>\n",
       "      <td>3yzn3p</td>\n",
       "      <td>Chest discomfort question</td>\n",
       "      <td>On and off for the last year or so, I've been ...</td>\n",
       "      <td></td>\n",
       "      <td>AskDocs</td>\n",
       "      <td>{'a_id': ['cyi6ywp'], 'text': ['This could be ...</td>\n",
       "      <td>[]</td>\n",
       "      <td>[]</td>\n",
       "      <td>[]</td>\n",
       "    </tr>\n",
       "    <tr>\n",
       "      <th>1</th>\n",
       "      <td>3z0cuf</td>\n",
       "      <td>Firecracker exploded close to ear. Ears still ...</td>\n",
       "      <td>So i was messing around with firecrackers and ...</td>\n",
       "      <td></td>\n",
       "      <td>AskDocs</td>\n",
       "      <td>{'a_id': ['cyi9mz0', 'cyi8vl0'], 'text': ['I a...</td>\n",
       "      <td>[]</td>\n",
       "      <td>[]</td>\n",
       "      <td>[]</td>\n",
       "    </tr>\n",
       "    <tr>\n",
       "      <th>2</th>\n",
       "      <td>3z0mlc</td>\n",
       "      <td>If a Schizophrenic patient is positive-symptom...</td>\n",
       "      <td>Dear /r/AskDocs: I don't know such medicine-re...</td>\n",
       "      <td></td>\n",
       "      <td>AskDocs</td>\n",
       "      <td>{'a_id': ['cyic4j5', 'cyij9yl'], 'text': ['I d...</td>\n",
       "      <td>[]</td>\n",
       "      <td>[]</td>\n",
       "      <td>[]</td>\n",
       "    </tr>\n",
       "    <tr>\n",
       "      <th>3</th>\n",
       "      <td>3z0o23</td>\n",
       "      <td>Why all antipsychotics are more or less sedati...</td>\n",
       "      <td>Dear /r/AskDocs: I don't know such medicine-re...</td>\n",
       "      <td></td>\n",
       "      <td>AskDocs</td>\n",
       "      <td>{'a_id': ['cyihyla'], 'text': ['This is believ...</td>\n",
       "      <td>[]</td>\n",
       "      <td>[]</td>\n",
       "      <td>[http://www.ncbi.nlm.nih.gov/pmc/articles/PMC4...</td>\n",
       "    </tr>\n",
       "    <tr>\n",
       "      <th>4</th>\n",
       "      <td>3z25e8</td>\n",
       "      <td>I have a very embarrassing problem, if anyone ...</td>\n",
       "      <td>Hey, I'm a 19 year old male and I've had this ...</td>\n",
       "      <td></td>\n",
       "      <td>AskDocs</td>\n",
       "      <td>{'a_id': ['cyit9ci'], 'text': ['Pin worms? Goo...</td>\n",
       "      <td>[]</td>\n",
       "      <td>[]</td>\n",
       "      <td>[]</td>\n",
       "    </tr>\n",
       "  </tbody>\n",
       "</table>\n",
       "</div>"
      ],
      "text/plain": [
       "     q_id                                              title  \\\n",
       "0  3yzn3p                          Chest discomfort question   \n",
       "1  3z0cuf  Firecracker exploded close to ear. Ears still ...   \n",
       "2  3z0mlc  If a Schizophrenic patient is positive-symptom...   \n",
       "3  3z0o23  Why all antipsychotics are more or less sedati...   \n",
       "4  3z25e8  I have a very embarrassing problem, if anyone ...   \n",
       "\n",
       "                                            selftext document subreddit  \\\n",
       "0  On and off for the last year or so, I've been ...            AskDocs   \n",
       "1  So i was messing around with firecrackers and ...            AskDocs   \n",
       "2  Dear /r/AskDocs: I don't know such medicine-re...            AskDocs   \n",
       "3  Dear /r/AskDocs: I don't know such medicine-re...            AskDocs   \n",
       "4  Hey, I'm a 19 year old male and I've had this ...            AskDocs   \n",
       "\n",
       "                                             answers title_urls selftext_urls  \\\n",
       "0  {'a_id': ['cyi6ywp'], 'text': ['This could be ...         []            []   \n",
       "1  {'a_id': ['cyi9mz0', 'cyi8vl0'], 'text': ['I a...         []            []   \n",
       "2  {'a_id': ['cyic4j5', 'cyij9yl'], 'text': ['I d...         []            []   \n",
       "3  {'a_id': ['cyihyla'], 'text': ['This is believ...         []            []   \n",
       "4  {'a_id': ['cyit9ci'], 'text': ['Pin worms? Goo...         []            []   \n",
       "\n",
       "                                        answers_urls  \n",
       "0                                                 []  \n",
       "1                                                 []  \n",
       "2                                                 []  \n",
       "3  [http://www.ncbi.nlm.nih.gov/pmc/articles/PMC4...  \n",
       "4                                                 []  "
      ]
     },
     "execution_count": 6,
     "metadata": {},
     "output_type": "execute_result"
    }
   ],
   "source": [
    "df.head()"
   ]
  },
  {
   "cell_type": "code",
   "execution_count": null,
   "id": "b69feeba",
   "metadata": {},
   "outputs": [],
   "source": [
    "import pandas as pd"
   ]
  },
  {
   "cell_type": "code",
   "execution_count": 28,
   "id": "7babd968",
   "metadata": {},
   "outputs": [],
   "source": [
    "result = pd.read_csv(\"../results/exp4_askdocs_gemini.csv\", keep_default_na=False)"
   ]
  },
  {
   "cell_type": "code",
   "execution_count": 29,
   "id": "47bd43f3",
   "metadata": {},
   "outputs": [
    {
     "data": {
      "text/html": [
       "<div>\n",
       "<style scoped>\n",
       "    .dataframe tbody tr th:only-of-type {\n",
       "        vertical-align: middle;\n",
       "    }\n",
       "\n",
       "    .dataframe tbody tr th {\n",
       "        vertical-align: top;\n",
       "    }\n",
       "\n",
       "    .dataframe thead th {\n",
       "        text-align: right;\n",
       "    }\n",
       "</style>\n",
       "<table border=\"1\" class=\"dataframe\">\n",
       "  <thead>\n",
       "    <tr style=\"text-align: right;\">\n",
       "      <th></th>\n",
       "      <th>id</th>\n",
       "      <th>model</th>\n",
       "      <th>prediction</th>\n",
       "      <th>meta</th>\n",
       "    </tr>\n",
       "  </thead>\n",
       "  <tbody>\n",
       "    <tr>\n",
       "      <th>0</th>\n",
       "      <td>9loutr</td>\n",
       "      <td>gemini</td>\n",
       "      <td>Discovering a hard, disc-like area in your bre...</td>\n",
       "      <td>{\"note\": \"real-world eval\"}</td>\n",
       "    </tr>\n",
       "    <tr>\n",
       "      <th>1</th>\n",
       "      <td>4fkkjd</td>\n",
       "      <td>gemini</td>\n",
       "      <td>Yes, you should see a physician as soon as pos...</td>\n",
       "      <td>{\"note\": \"real-world eval\"}</td>\n",
       "    </tr>\n",
       "    <tr>\n",
       "      <th>2</th>\n",
       "      <td>7m55bg</td>\n",
       "      <td>gemini</td>\n",
       "      <td>The oxygen gas itself does not expire or go ba...</td>\n",
       "      <td>{\"note\": \"real-world eval\"}</td>\n",
       "    </tr>\n",
       "    <tr>\n",
       "      <th>3</th>\n",
       "      <td>671fhy</td>\n",
       "      <td>gemini</td>\n",
       "      <td>I am incredibly sorry to hear about your broth...</td>\n",
       "      <td>{\"note\": \"real-world eval\"}</td>\n",
       "    </tr>\n",
       "    <tr>\n",
       "      <th>4</th>\n",
       "      <td>96n2tr</td>\n",
       "      <td>gemini</td>\n",
       "      <td>Based on the typical characteristics used in s...</td>\n",
       "      <td>{\"note\": \"real-world eval\"}</td>\n",
       "    </tr>\n",
       "  </tbody>\n",
       "</table>\n",
       "</div>"
      ],
      "text/plain": [
       "       id   model                                         prediction  \\\n",
       "0  9loutr  gemini  Discovering a hard, disc-like area in your bre...   \n",
       "1  4fkkjd  gemini  Yes, you should see a physician as soon as pos...   \n",
       "2  7m55bg  gemini  The oxygen gas itself does not expire or go ba...   \n",
       "3  671fhy  gemini  I am incredibly sorry to hear about your broth...   \n",
       "4  96n2tr  gemini  Based on the typical characteristics used in s...   \n",
       "\n",
       "                          meta  \n",
       "0  {\"note\": \"real-world eval\"}  \n",
       "1  {\"note\": \"real-world eval\"}  \n",
       "2  {\"note\": \"real-world eval\"}  \n",
       "3  {\"note\": \"real-world eval\"}  \n",
       "4  {\"note\": \"real-world eval\"}  "
      ]
     },
     "execution_count": 29,
     "metadata": {},
     "output_type": "execute_result"
    }
   ],
   "source": [
    "result.head()"
   ]
  },
  {
   "cell_type": "code",
   "execution_count": 30,
   "id": "a35c0817",
   "metadata": {},
   "outputs": [
    {
     "name": "stdout",
     "output_type": "stream",
     "text": [
      "Discovering a hard, disc-like area in your breast can be caused by a number of conditions, and it is essential to have it evaluated by a healthcare professional. Benign (non-cancerous) possibilities include fibroadenomas, which are solid, rubbery lumps, cysts, which are fluid-filled sacs, or dense areas of tissue related to fibrocystic changes. However, a new, hard, or persistent lump can also be a sign of breast cancer. Because it is impossible to determine the cause without a physical examination and likely imaging tests like a mammogram or ultrasound, you should schedule an appointment with your doctor or a gynecologist as soon as possible. Prompt medical evaluation is the only way to get an accurate diagnosis, relieve your anxiety, and ensure you receive any necessary treatment.\n"
     ]
    }
   ],
   "source": [
    "print(result[\"prediction\"][0])"
   ]
  }
 ],
 "metadata": {
  "kernelspec": {
   "display_name": "closed-faithful",
   "language": "python",
   "name": "python3"
  },
  "language_info": {
   "codemirror_mode": {
    "name": "ipython",
    "version": 3
   },
   "file_extension": ".py",
   "mimetype": "text/x-python",
   "name": "python",
   "nbconvert_exporter": "python",
   "pygments_lexer": "ipython3",
   "version": "3.11.2"
  }
 },
 "nbformat": 4,
 "nbformat_minor": 5
}
