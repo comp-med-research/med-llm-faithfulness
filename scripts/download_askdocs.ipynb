{
 "cells": [
  {
   "cell_type": "code",
   "execution_count": 10,
   "id": "67ff68b0",
   "metadata": {},
   "outputs": [],
   "source": [
    "from datasets import load_dataset\n",
    "import pandas as pd\n",
    "import re"
   ]
  },
  {
   "cell_type": "code",
   "execution_count": 2,
   "id": "0738bb0a",
   "metadata": {},
   "outputs": [
    {
     "data": {
      "application/vnd.jupyter.widget-view+json": {
       "model_id": "b7ec041da87344ce820d3bf844bc6ced",
       "version_major": 2,
       "version_minor": 0
      },
      "text/plain": [
       "Downloading data:   0%|          | 0.00/45.4M [00:00<?, ?B/s]"
      ]
     },
     "metadata": {},
     "output_type": "display_data"
    },
    {
     "data": {
      "application/vnd.jupyter.widget-view+json": {
       "model_id": "d1eab9d5cbfb4e5297cefa713fcfcedd",
       "version_major": 2,
       "version_minor": 0
      },
      "text/plain": [
       "Downloading data:   0%|          | 0.00/49.1M [00:00<?, ?B/s]"
      ]
     },
     "metadata": {},
     "output_type": "display_data"
    },
    {
     "data": {
      "application/vnd.jupyter.widget-view+json": {
       "model_id": "49f775ae712f4ee8a931b27c1cabcc34",
       "version_major": 2,
       "version_minor": 0
      },
      "text/plain": [
       "Downloading data:   0%|          | 0.00/11.0M [00:00<?, ?B/s]"
      ]
     },
     "metadata": {},
     "output_type": "display_data"
    },
    {
     "data": {
      "application/vnd.jupyter.widget-view+json": {
       "model_id": "59fb80c624de4a05902f7677d06cd83e",
       "version_major": 2,
       "version_minor": 0
      },
      "text/plain": [
       "Downloading data:   0%|          | 0.00/12.5M [00:00<?, ?B/s]"
      ]
     },
     "metadata": {},
     "output_type": "display_data"
    },
    {
     "data": {
      "application/vnd.jupyter.widget-view+json": {
       "model_id": "514ad1680aff475b86774dcc174cdff9",
       "version_major": 2,
       "version_minor": 0
      },
      "text/plain": [
       "Downloading data:   0%|          | 0.00/10.4M [00:00<?, ?B/s]"
      ]
     },
     "metadata": {},
     "output_type": "display_data"
    },
    {
     "data": {
      "application/vnd.jupyter.widget-view+json": {
       "model_id": "64346c7a8b1a485081355a106e4f8814",
       "version_major": 2,
       "version_minor": 0
      },
      "text/plain": [
       "Downloading data:   0%|          | 0.00/11.2M [00:00<?, ?B/s]"
      ]
     },
     "metadata": {},
     "output_type": "display_data"
    },
    {
     "data": {
      "application/vnd.jupyter.widget-view+json": {
       "model_id": "e7b97f52633042888a82547917e13902",
       "version_major": 2,
       "version_minor": 0
      },
      "text/plain": [
       "Downloading data:   0%|          | 0.00/180M [00:00<?, ?B/s]"
      ]
     },
     "metadata": {},
     "output_type": "display_data"
    },
    {
     "data": {
      "application/vnd.jupyter.widget-view+json": {
       "model_id": "bbeeeff089f74201a456170b30356ffd",
       "version_major": 2,
       "version_minor": 0
      },
      "text/plain": [
       "Downloading data:   0%|          | 0.00/165M [00:00<?, ?B/s]"
      ]
     },
     "metadata": {},
     "output_type": "display_data"
    },
    {
     "data": {
      "application/vnd.jupyter.widget-view+json": {
       "model_id": "12d023a33f364054bc4eb05408958803",
       "version_major": 2,
       "version_minor": 0
      },
      "text/plain": [
       "Generating train_pt split: 0 examples [00:00, ? examples/s]"
      ]
     },
     "metadata": {},
     "output_type": "display_data"
    },
    {
     "data": {
      "application/vnd.jupyter.widget-view+json": {
       "model_id": "f1db8b21fa9a4f8f9f65d6d88cb93ef7",
       "version_major": 2,
       "version_minor": 0
      },
      "text/plain": [
       "Generating train_en split: 0 examples [00:00, ? examples/s]"
      ]
     },
     "metadata": {},
     "output_type": "display_data"
    },
    {
     "data": {
      "application/vnd.jupyter.widget-view+json": {
       "model_id": "f083a44e3f1b427a81b8e503515f2c3b",
       "version_major": 2,
       "version_minor": 0
      },
      "text/plain": [
       "Generating validation_pt split: 0 examples [00:00, ? examples/s]"
      ]
     },
     "metadata": {},
     "output_type": "display_data"
    },
    {
     "data": {
      "application/vnd.jupyter.widget-view+json": {
       "model_id": "0d9982e180534c038944f7176ddb9015",
       "version_major": 2,
       "version_minor": 0
      },
      "text/plain": [
       "Generating validation_en split: 0 examples [00:00, ? examples/s]"
      ]
     },
     "metadata": {},
     "output_type": "display_data"
    },
    {
     "data": {
      "application/vnd.jupyter.widget-view+json": {
       "model_id": "7120ec8c5229444b9c450254e6a5d5db",
       "version_major": 2,
       "version_minor": 0
      },
      "text/plain": [
       "Generating test_pt split: 0 examples [00:00, ? examples/s]"
      ]
     },
     "metadata": {},
     "output_type": "display_data"
    },
    {
     "data": {
      "application/vnd.jupyter.widget-view+json": {
       "model_id": "45365a5b134044f99b2a095cbc7829b8",
       "version_major": 2,
       "version_minor": 0
      },
      "text/plain": [
       "Generating test_en split: 0 examples [00:00, ? examples/s]"
      ]
     },
     "metadata": {},
     "output_type": "display_data"
    },
    {
     "data": {
      "application/vnd.jupyter.widget-view+json": {
       "model_id": "080726c9788a420280623088060104f9",
       "version_major": 2,
       "version_minor": 0
      },
      "text/plain": [
       "Generating external_pt split: 0 examples [00:00, ? examples/s]"
      ]
     },
     "metadata": {},
     "output_type": "display_data"
    },
    {
     "data": {
      "application/vnd.jupyter.widget-view+json": {
       "model_id": "1af42baceec642bfac320a19d0681c0f",
       "version_major": 2,
       "version_minor": 0
      },
      "text/plain": [
       "Generating external_en split: 0 examples [00:00, ? examples/s]"
      ]
     },
     "metadata": {},
     "output_type": "display_data"
    },
    {
     "name": "stdout",
     "output_type": "stream",
     "text": [
      "{'q_id': '3yzn3p', 'title': 'Chest discomfort question', 'selftext': 'On and off for the last year or so, I\\'ve been having occasional discomfort in my chest, particularly on the left side. The first time it happened, I was understandably worried and went to the emergency room. After some X-rays and an hour on an EKG, they sent me home saying they couldn\\'t find evidence of anything wrong. Since then, it\\'s happened several more times, occasionally accompanied by a feeling of shortness of breath. Whenever it happens, I check my pulse and nothing seems wrong (occasionally the pulse line looks a bit odd on my phone, but that could easily be an issue caused by my hand moving or something) and I never actually have any trouble drawing in breath.  Over the last few days, this has been recurring periodically, along with an occasional feeling of tightness in my throat and one or two bouts of transient weakness.\\n\\nAs background, I had two spontaneous pneumothoraxes in my left lung a little over a decade ago, the second of which was treated with a chest tube and eventually a pluerodesis. I think I had some minor nerve damage as a result of the surgery; at the very least, the entire left side of my chest was left numb for several months. Other than that and a broken right clavicle, I\\'ve never had any major health issues. I don\\'t smoke, use drugs, or drink, and while I\\'m a little overweight (6\\'0\", ~190 lbs, male), I try to at get at least a little light cardio exercise on a daily basis. I\\'m 28.\\n\\nSo... Any idea as to what\\'s going on?', 'document': '', 'subreddit': 'AskDocs', 'answers': {'a_id': ['cyi6ywp'], 'text': [\"This could be a complex problem, or a simple one, it's difficult to say.\\n\\nYou're a bit young for cardiac pain (classic heart disease) though you should probably go for a stress EKG where they make you walk/run on a treadmill for a while and see what's happening. Often a resting EKG is normal in people with heart disease. You should also have a chest X-ray and even a CT scan of your chest. With your history of pneumothoraces I would go for a scan because you could have pleuritic pain and the inflammation is difficult to see on a normal chest X-ray. A pleurodesis could cause chronic inflammation and irritation in the area that leads to discomfort. Be aware that the are many causes for chest pain and the best person to see is a good internist who will examine you, send you for many tests and hopefully arrange a stress EKG and scan of your chest.\"], 'score': [3]}, 'title_urls': [], 'selftext_urls': [], 'answers_urls': []}\n"
     ]
    }
   ],
   "source": [
    "# Load English training split\n",
    "train_dataset = load_dataset(\"ju-resplande/askD\", split=\"train_en\")\n",
    "\n",
    "print(train_dataset[0])"
   ]
  },
  {
   "cell_type": "code",
   "execution_count": 4,
   "id": "7937a956",
   "metadata": {},
   "outputs": [
    {
     "data": {
      "application/vnd.jupyter.widget-view+json": {
       "model_id": "1f0d8cd7cd914b22a3a0acc1b9bf1fcc",
       "version_major": 2,
       "version_minor": 0
      },
      "text/plain": [
       "Creating parquet from Arrow format:   0%|          | 0/25 [00:00<?, ?ba/s]"
      ]
     },
     "metadata": {},
     "output_type": "display_data"
    },
    {
     "data": {
      "text/plain": [
       "45505564"
      ]
     },
     "execution_count": 4,
     "metadata": {},
     "output_type": "execute_result"
    }
   ],
   "source": [
    "train_dataset.to_parquet(\"../data/raw/askdocs/askdocs_train_en.parquet\")\n"
   ]
  },
  {
   "cell_type": "code",
   "execution_count": 28,
   "id": "fb499d74",
   "metadata": {},
   "outputs": [],
   "source": [
    "\n",
    "\n",
    "# Load Parquet\n",
    "df = pd.read_parquet(\"../data/raw/askdocs/askdocs_train_en.parquet\")\n"
   ]
  },
  {
   "cell_type": "code",
   "execution_count": 29,
   "id": "34ec7989",
   "metadata": {},
   "outputs": [
    {
     "data": {
      "text/plain": [
       "24256"
      ]
     },
     "execution_count": 29,
     "metadata": {},
     "output_type": "execute_result"
    }
   ],
   "source": [
    "len(df)"
   ]
  },
  {
   "cell_type": "code",
   "execution_count": 30,
   "id": "bcac9f21",
   "metadata": {},
   "outputs": [
    {
     "data": {
      "text/html": [
       "<div>\n",
       "<style scoped>\n",
       "    .dataframe tbody tr th:only-of-type {\n",
       "        vertical-align: middle;\n",
       "    }\n",
       "\n",
       "    .dataframe tbody tr th {\n",
       "        vertical-align: top;\n",
       "    }\n",
       "\n",
       "    .dataframe thead th {\n",
       "        text-align: right;\n",
       "    }\n",
       "</style>\n",
       "<table border=\"1\" class=\"dataframe\">\n",
       "  <thead>\n",
       "    <tr style=\"text-align: right;\">\n",
       "      <th></th>\n",
       "      <th>q_id</th>\n",
       "      <th>title</th>\n",
       "      <th>selftext</th>\n",
       "      <th>document</th>\n",
       "      <th>subreddit</th>\n",
       "      <th>answers</th>\n",
       "      <th>title_urls</th>\n",
       "      <th>selftext_urls</th>\n",
       "      <th>answers_urls</th>\n",
       "    </tr>\n",
       "  </thead>\n",
       "  <tbody>\n",
       "    <tr>\n",
       "      <th>0</th>\n",
       "      <td>3yzn3p</td>\n",
       "      <td>Chest discomfort question</td>\n",
       "      <td>On and off for the last year or so, I've been ...</td>\n",
       "      <td></td>\n",
       "      <td>AskDocs</td>\n",
       "      <td>{'a_id': ['cyi6ywp'], 'text': ['This could be ...</td>\n",
       "      <td>[]</td>\n",
       "      <td>[]</td>\n",
       "      <td>[]</td>\n",
       "    </tr>\n",
       "    <tr>\n",
       "      <th>1</th>\n",
       "      <td>3z0cuf</td>\n",
       "      <td>Firecracker exploded close to ear. Ears still ...</td>\n",
       "      <td>So i was messing around with firecrackers and ...</td>\n",
       "      <td></td>\n",
       "      <td>AskDocs</td>\n",
       "      <td>{'a_id': ['cyi9mz0', 'cyi8vl0'], 'text': ['I a...</td>\n",
       "      <td>[]</td>\n",
       "      <td>[]</td>\n",
       "      <td>[]</td>\n",
       "    </tr>\n",
       "    <tr>\n",
       "      <th>2</th>\n",
       "      <td>3z0mlc</td>\n",
       "      <td>If a Schizophrenic patient is positive-symptom...</td>\n",
       "      <td>Dear /r/AskDocs: I don't know such medicine-re...</td>\n",
       "      <td></td>\n",
       "      <td>AskDocs</td>\n",
       "      <td>{'a_id': ['cyic4j5', 'cyij9yl'], 'text': ['I d...</td>\n",
       "      <td>[]</td>\n",
       "      <td>[]</td>\n",
       "      <td>[]</td>\n",
       "    </tr>\n",
       "    <tr>\n",
       "      <th>3</th>\n",
       "      <td>3z0o23</td>\n",
       "      <td>Why all antipsychotics are more or less sedati...</td>\n",
       "      <td>Dear /r/AskDocs: I don't know such medicine-re...</td>\n",
       "      <td></td>\n",
       "      <td>AskDocs</td>\n",
       "      <td>{'a_id': ['cyihyla'], 'text': ['This is believ...</td>\n",
       "      <td>[]</td>\n",
       "      <td>[]</td>\n",
       "      <td>[http://www.ncbi.nlm.nih.gov/pmc/articles/PMC4...</td>\n",
       "    </tr>\n",
       "    <tr>\n",
       "      <th>4</th>\n",
       "      <td>3z25e8</td>\n",
       "      <td>I have a very embarrassing problem, if anyone ...</td>\n",
       "      <td>Hey, I'm a 19 year old male and I've had this ...</td>\n",
       "      <td></td>\n",
       "      <td>AskDocs</td>\n",
       "      <td>{'a_id': ['cyit9ci'], 'text': ['Pin worms? Goo...</td>\n",
       "      <td>[]</td>\n",
       "      <td>[]</td>\n",
       "      <td>[]</td>\n",
       "    </tr>\n",
       "  </tbody>\n",
       "</table>\n",
       "</div>"
      ],
      "text/plain": [
       "     q_id                                              title  \\\n",
       "0  3yzn3p                          Chest discomfort question   \n",
       "1  3z0cuf  Firecracker exploded close to ear. Ears still ...   \n",
       "2  3z0mlc  If a Schizophrenic patient is positive-symptom...   \n",
       "3  3z0o23  Why all antipsychotics are more or less sedati...   \n",
       "4  3z25e8  I have a very embarrassing problem, if anyone ...   \n",
       "\n",
       "                                            selftext document subreddit  \\\n",
       "0  On and off for the last year or so, I've been ...            AskDocs   \n",
       "1  So i was messing around with firecrackers and ...            AskDocs   \n",
       "2  Dear /r/AskDocs: I don't know such medicine-re...            AskDocs   \n",
       "3  Dear /r/AskDocs: I don't know such medicine-re...            AskDocs   \n",
       "4  Hey, I'm a 19 year old male and I've had this ...            AskDocs   \n",
       "\n",
       "                                             answers title_urls selftext_urls  \\\n",
       "0  {'a_id': ['cyi6ywp'], 'text': ['This could be ...         []            []   \n",
       "1  {'a_id': ['cyi9mz0', 'cyi8vl0'], 'text': ['I a...         []            []   \n",
       "2  {'a_id': ['cyic4j5', 'cyij9yl'], 'text': ['I d...         []            []   \n",
       "3  {'a_id': ['cyihyla'], 'text': ['This is believ...         []            []   \n",
       "4  {'a_id': ['cyit9ci'], 'text': ['Pin worms? Goo...         []            []   \n",
       "\n",
       "                                        answers_urls  \n",
       "0                                                 []  \n",
       "1                                                 []  \n",
       "2                                                 []  \n",
       "3  [http://www.ncbi.nlm.nih.gov/pmc/articles/PMC4...  \n",
       "4                                                 []  "
      ]
     },
     "execution_count": 30,
     "metadata": {},
     "output_type": "execute_result"
    }
   ],
   "source": [
    "df.head()"
   ]
  },
  {
   "cell_type": "code",
   "execution_count": 31,
   "id": "a93115bf",
   "metadata": {},
   "outputs": [],
   "source": [
    "# --- Drop [deleted]/[removed]/empty ---\n",
    "BAD = {\"[deleted]\", \"[removed]\"}\n",
    "df = df[~df[\"selftext\"].astype(str).str.strip().isin(BAD)]\n",
    "df = df[~df[\"title\"].astype(str).str.strip().isin(BAD)]\n",
    "df = df[df[\"selftext\"].astype(str).str.strip() != \"\"]\n",
    "\n",
    "# --- Cleaning function ---\n",
    "def clean_text(text: str) -> str:\n",
    "    if not isinstance(text, str):\n",
    "        return \"\"\n",
    "    text = text.strip()\n",
    "    # strip markdown markers\n",
    "    text = re.sub(r\"\\*\\*(.*?)\\*\\*\", r\"\\1\", text)   # **bold**\n",
    "    text = re.sub(r\"\\*(.*?)\\*\", r\"\\1\", text)       # *italics*\n",
    "    text = re.sub(r\"`(.*?)`\", r\"\\1\", text)         # `code`\n",
    "    text = re.sub(r\"\\n{2,}\", \"\\n\", text)           # collapse newlines\n",
    "    return text\n",
    "\n"
   ]
  },
  {
   "cell_type": "code",
   "execution_count": 32,
   "id": "f8241ece",
   "metadata": {},
   "outputs": [
    {
     "data": {
      "text/plain": [
       "19560"
      ]
     },
     "execution_count": 32,
     "metadata": {},
     "output_type": "execute_result"
    }
   ],
   "source": [
    "len(df)"
   ]
  },
  {
   "cell_type": "code",
   "execution_count": 33,
   "id": "2e93697d",
   "metadata": {},
   "outputs": [
    {
     "data": {
      "text/html": [
       "<div>\n",
       "<style scoped>\n",
       "    .dataframe tbody tr th:only-of-type {\n",
       "        vertical-align: middle;\n",
       "    }\n",
       "\n",
       "    .dataframe tbody tr th {\n",
       "        vertical-align: top;\n",
       "    }\n",
       "\n",
       "    .dataframe thead th {\n",
       "        text-align: right;\n",
       "    }\n",
       "</style>\n",
       "<table border=\"1\" class=\"dataframe\">\n",
       "  <thead>\n",
       "    <tr style=\"text-align: right;\">\n",
       "      <th></th>\n",
       "      <th>q_id</th>\n",
       "      <th>title</th>\n",
       "      <th>selftext</th>\n",
       "      <th>document</th>\n",
       "      <th>subreddit</th>\n",
       "      <th>answers</th>\n",
       "      <th>title_urls</th>\n",
       "      <th>selftext_urls</th>\n",
       "      <th>answers_urls</th>\n",
       "    </tr>\n",
       "  </thead>\n",
       "  <tbody>\n",
       "    <tr>\n",
       "      <th>0</th>\n",
       "      <td>3yzn3p</td>\n",
       "      <td>Chest discomfort question</td>\n",
       "      <td>On and off for the last year or so, I've been ...</td>\n",
       "      <td></td>\n",
       "      <td>AskDocs</td>\n",
       "      <td>{'a_id': ['cyi6ywp'], 'text': ['This could be ...</td>\n",
       "      <td>[]</td>\n",
       "      <td>[]</td>\n",
       "      <td>[]</td>\n",
       "    </tr>\n",
       "    <tr>\n",
       "      <th>1</th>\n",
       "      <td>3z0cuf</td>\n",
       "      <td>Firecracker exploded close to ear. Ears still ...</td>\n",
       "      <td>So i was messing around with firecrackers and ...</td>\n",
       "      <td></td>\n",
       "      <td>AskDocs</td>\n",
       "      <td>{'a_id': ['cyi9mz0', 'cyi8vl0'], 'text': ['I a...</td>\n",
       "      <td>[]</td>\n",
       "      <td>[]</td>\n",
       "      <td>[]</td>\n",
       "    </tr>\n",
       "    <tr>\n",
       "      <th>2</th>\n",
       "      <td>3z0mlc</td>\n",
       "      <td>If a Schizophrenic patient is positive-symptom...</td>\n",
       "      <td>Dear /r/AskDocs: I don't know such medicine-re...</td>\n",
       "      <td></td>\n",
       "      <td>AskDocs</td>\n",
       "      <td>{'a_id': ['cyic4j5', 'cyij9yl'], 'text': ['I d...</td>\n",
       "      <td>[]</td>\n",
       "      <td>[]</td>\n",
       "      <td>[]</td>\n",
       "    </tr>\n",
       "    <tr>\n",
       "      <th>3</th>\n",
       "      <td>3z0o23</td>\n",
       "      <td>Why all antipsychotics are more or less sedati...</td>\n",
       "      <td>Dear /r/AskDocs: I don't know such medicine-re...</td>\n",
       "      <td></td>\n",
       "      <td>AskDocs</td>\n",
       "      <td>{'a_id': ['cyihyla'], 'text': ['This is believ...</td>\n",
       "      <td>[]</td>\n",
       "      <td>[]</td>\n",
       "      <td>[http://www.ncbi.nlm.nih.gov/pmc/articles/PMC4...</td>\n",
       "    </tr>\n",
       "    <tr>\n",
       "      <th>4</th>\n",
       "      <td>3z25e8</td>\n",
       "      <td>I have a very embarrassing problem, if anyone ...</td>\n",
       "      <td>Hey, I'm a 19 year old male and I've had this ...</td>\n",
       "      <td></td>\n",
       "      <td>AskDocs</td>\n",
       "      <td>{'a_id': ['cyit9ci'], 'text': ['Pin worms? Goo...</td>\n",
       "      <td>[]</td>\n",
       "      <td>[]</td>\n",
       "      <td>[]</td>\n",
       "    </tr>\n",
       "  </tbody>\n",
       "</table>\n",
       "</div>"
      ],
      "text/plain": [
       "     q_id                                              title  \\\n",
       "0  3yzn3p                          Chest discomfort question   \n",
       "1  3z0cuf  Firecracker exploded close to ear. Ears still ...   \n",
       "2  3z0mlc  If a Schizophrenic patient is positive-symptom...   \n",
       "3  3z0o23  Why all antipsychotics are more or less sedati...   \n",
       "4  3z25e8  I have a very embarrassing problem, if anyone ...   \n",
       "\n",
       "                                            selftext document subreddit  \\\n",
       "0  On and off for the last year or so, I've been ...            AskDocs   \n",
       "1  So i was messing around with firecrackers and ...            AskDocs   \n",
       "2  Dear /r/AskDocs: I don't know such medicine-re...            AskDocs   \n",
       "3  Dear /r/AskDocs: I don't know such medicine-re...            AskDocs   \n",
       "4  Hey, I'm a 19 year old male and I've had this ...            AskDocs   \n",
       "\n",
       "                                             answers title_urls selftext_urls  \\\n",
       "0  {'a_id': ['cyi6ywp'], 'text': ['This could be ...         []            []   \n",
       "1  {'a_id': ['cyi9mz0', 'cyi8vl0'], 'text': ['I a...         []            []   \n",
       "2  {'a_id': ['cyic4j5', 'cyij9yl'], 'text': ['I d...         []            []   \n",
       "3  {'a_id': ['cyihyla'], 'text': ['This is believ...         []            []   \n",
       "4  {'a_id': ['cyit9ci'], 'text': ['Pin worms? Goo...         []            []   \n",
       "\n",
       "                                        answers_urls  \n",
       "0                                                 []  \n",
       "1                                                 []  \n",
       "2                                                 []  \n",
       "3  [http://www.ncbi.nlm.nih.gov/pmc/articles/PMC4...  \n",
       "4                                                 []  "
      ]
     },
     "execution_count": 33,
     "metadata": {},
     "output_type": "execute_result"
    }
   ],
   "source": [
    "df.head()"
   ]
  },
  {
   "cell_type": "code",
   "execution_count": 34,
   "id": "42b83b02",
   "metadata": {},
   "outputs": [],
   "source": [
    "# --- Keep clean columns ---\n",
    "df[\"title_clean\"] = df[\"title\"].map(clean_text)\n",
    "df[\"selftext_clean\"] = df[\"selftext\"].map(clean_text)"
   ]
  },
  {
   "cell_type": "code",
   "execution_count": 35,
   "id": "65efebf7",
   "metadata": {},
   "outputs": [
    {
     "data": {
      "text/html": [
       "<div>\n",
       "<style scoped>\n",
       "    .dataframe tbody tr th:only-of-type {\n",
       "        vertical-align: middle;\n",
       "    }\n",
       "\n",
       "    .dataframe tbody tr th {\n",
       "        vertical-align: top;\n",
       "    }\n",
       "\n",
       "    .dataframe thead th {\n",
       "        text-align: right;\n",
       "    }\n",
       "</style>\n",
       "<table border=\"1\" class=\"dataframe\">\n",
       "  <thead>\n",
       "    <tr style=\"text-align: right;\">\n",
       "      <th></th>\n",
       "      <th>q_id</th>\n",
       "      <th>title</th>\n",
       "      <th>selftext</th>\n",
       "      <th>document</th>\n",
       "      <th>subreddit</th>\n",
       "      <th>answers</th>\n",
       "      <th>title_urls</th>\n",
       "      <th>selftext_urls</th>\n",
       "      <th>answers_urls</th>\n",
       "      <th>title_clean</th>\n",
       "      <th>selftext_clean</th>\n",
       "    </tr>\n",
       "  </thead>\n",
       "  <tbody>\n",
       "    <tr>\n",
       "      <th>0</th>\n",
       "      <td>3yzn3p</td>\n",
       "      <td>Chest discomfort question</td>\n",
       "      <td>On and off for the last year or so, I've been ...</td>\n",
       "      <td></td>\n",
       "      <td>AskDocs</td>\n",
       "      <td>{'a_id': ['cyi6ywp'], 'text': ['This could be ...</td>\n",
       "      <td>[]</td>\n",
       "      <td>[]</td>\n",
       "      <td>[]</td>\n",
       "      <td>Chest discomfort question</td>\n",
       "      <td>On and off for the last year or so, I've been ...</td>\n",
       "    </tr>\n",
       "    <tr>\n",
       "      <th>1</th>\n",
       "      <td>3z0cuf</td>\n",
       "      <td>Firecracker exploded close to ear. Ears still ...</td>\n",
       "      <td>So i was messing around with firecrackers and ...</td>\n",
       "      <td></td>\n",
       "      <td>AskDocs</td>\n",
       "      <td>{'a_id': ['cyi9mz0', 'cyi8vl0'], 'text': ['I a...</td>\n",
       "      <td>[]</td>\n",
       "      <td>[]</td>\n",
       "      <td>[]</td>\n",
       "      <td>Firecracker exploded close to ear. Ears still ...</td>\n",
       "      <td>So i was messing around with firecrackers and ...</td>\n",
       "    </tr>\n",
       "    <tr>\n",
       "      <th>2</th>\n",
       "      <td>3z0mlc</td>\n",
       "      <td>If a Schizophrenic patient is positive-symptom...</td>\n",
       "      <td>Dear /r/AskDocs: I don't know such medicine-re...</td>\n",
       "      <td></td>\n",
       "      <td>AskDocs</td>\n",
       "      <td>{'a_id': ['cyic4j5', 'cyij9yl'], 'text': ['I d...</td>\n",
       "      <td>[]</td>\n",
       "      <td>[]</td>\n",
       "      <td>[]</td>\n",
       "      <td>If a Schizophrenic patient is positive-symptom...</td>\n",
       "      <td>Dear /r/AskDocs: I don't know such medicine-re...</td>\n",
       "    </tr>\n",
       "    <tr>\n",
       "      <th>3</th>\n",
       "      <td>3z0o23</td>\n",
       "      <td>Why all antipsychotics are more or less sedati...</td>\n",
       "      <td>Dear /r/AskDocs: I don't know such medicine-re...</td>\n",
       "      <td></td>\n",
       "      <td>AskDocs</td>\n",
       "      <td>{'a_id': ['cyihyla'], 'text': ['This is believ...</td>\n",
       "      <td>[]</td>\n",
       "      <td>[]</td>\n",
       "      <td>[http://www.ncbi.nlm.nih.gov/pmc/articles/PMC4...</td>\n",
       "      <td>Why all antipsychotics are more or less sedati...</td>\n",
       "      <td>Dear /r/AskDocs: I don't know such medicine-re...</td>\n",
       "    </tr>\n",
       "    <tr>\n",
       "      <th>4</th>\n",
       "      <td>3z25e8</td>\n",
       "      <td>I have a very embarrassing problem, if anyone ...</td>\n",
       "      <td>Hey, I'm a 19 year old male and I've had this ...</td>\n",
       "      <td></td>\n",
       "      <td>AskDocs</td>\n",
       "      <td>{'a_id': ['cyit9ci'], 'text': ['Pin worms? Goo...</td>\n",
       "      <td>[]</td>\n",
       "      <td>[]</td>\n",
       "      <td>[]</td>\n",
       "      <td>I have a very embarrassing problem, if anyone ...</td>\n",
       "      <td>Hey, I'm a 19 year old male and I've had this ...</td>\n",
       "    </tr>\n",
       "  </tbody>\n",
       "</table>\n",
       "</div>"
      ],
      "text/plain": [
       "     q_id                                              title  \\\n",
       "0  3yzn3p                          Chest discomfort question   \n",
       "1  3z0cuf  Firecracker exploded close to ear. Ears still ...   \n",
       "2  3z0mlc  If a Schizophrenic patient is positive-symptom...   \n",
       "3  3z0o23  Why all antipsychotics are more or less sedati...   \n",
       "4  3z25e8  I have a very embarrassing problem, if anyone ...   \n",
       "\n",
       "                                            selftext document subreddit  \\\n",
       "0  On and off for the last year or so, I've been ...            AskDocs   \n",
       "1  So i was messing around with firecrackers and ...            AskDocs   \n",
       "2  Dear /r/AskDocs: I don't know such medicine-re...            AskDocs   \n",
       "3  Dear /r/AskDocs: I don't know such medicine-re...            AskDocs   \n",
       "4  Hey, I'm a 19 year old male and I've had this ...            AskDocs   \n",
       "\n",
       "                                             answers title_urls selftext_urls  \\\n",
       "0  {'a_id': ['cyi6ywp'], 'text': ['This could be ...         []            []   \n",
       "1  {'a_id': ['cyi9mz0', 'cyi8vl0'], 'text': ['I a...         []            []   \n",
       "2  {'a_id': ['cyic4j5', 'cyij9yl'], 'text': ['I d...         []            []   \n",
       "3  {'a_id': ['cyihyla'], 'text': ['This is believ...         []            []   \n",
       "4  {'a_id': ['cyit9ci'], 'text': ['Pin worms? Goo...         []            []   \n",
       "\n",
       "                                        answers_urls  \\\n",
       "0                                                 []   \n",
       "1                                                 []   \n",
       "2                                                 []   \n",
       "3  [http://www.ncbi.nlm.nih.gov/pmc/articles/PMC4...   \n",
       "4                                                 []   \n",
       "\n",
       "                                         title_clean  \\\n",
       "0                          Chest discomfort question   \n",
       "1  Firecracker exploded close to ear. Ears still ...   \n",
       "2  If a Schizophrenic patient is positive-symptom...   \n",
       "3  Why all antipsychotics are more or less sedati...   \n",
       "4  I have a very embarrassing problem, if anyone ...   \n",
       "\n",
       "                                      selftext_clean  \n",
       "0  On and off for the last year or so, I've been ...  \n",
       "1  So i was messing around with firecrackers and ...  \n",
       "2  Dear /r/AskDocs: I don't know such medicine-re...  \n",
       "3  Dear /r/AskDocs: I don't know such medicine-re...  \n",
       "4  Hey, I'm a 19 year old male and I've had this ...  "
      ]
     },
     "execution_count": 35,
     "metadata": {},
     "output_type": "execute_result"
    }
   ],
   "source": [
    "df.head()"
   ]
  },
  {
   "cell_type": "code",
   "execution_count": null,
   "id": "acd4c450",
   "metadata": {},
   "outputs": [],
   "source": [
    "# --- Sample 5 for practice ---\n",
    "sampled_train_df = df.sample(n=5, random_state=42).reset_index(drop=True)"
   ]
  },
  {
   "cell_type": "code",
   "execution_count": 37,
   "id": "95030e1b",
   "metadata": {},
   "outputs": [
    {
     "data": {
      "text/html": [
       "<div>\n",
       "<style scoped>\n",
       "    .dataframe tbody tr th:only-of-type {\n",
       "        vertical-align: middle;\n",
       "    }\n",
       "\n",
       "    .dataframe tbody tr th {\n",
       "        vertical-align: top;\n",
       "    }\n",
       "\n",
       "    .dataframe thead th {\n",
       "        text-align: right;\n",
       "    }\n",
       "</style>\n",
       "<table border=\"1\" class=\"dataframe\">\n",
       "  <thead>\n",
       "    <tr style=\"text-align: right;\">\n",
       "      <th></th>\n",
       "      <th>q_id</th>\n",
       "      <th>title</th>\n",
       "      <th>selftext</th>\n",
       "      <th>document</th>\n",
       "      <th>subreddit</th>\n",
       "      <th>answers</th>\n",
       "      <th>title_urls</th>\n",
       "      <th>selftext_urls</th>\n",
       "      <th>answers_urls</th>\n",
       "      <th>title_clean</th>\n",
       "      <th>selftext_clean</th>\n",
       "    </tr>\n",
       "  </thead>\n",
       "  <tbody>\n",
       "    <tr>\n",
       "      <th>0</th>\n",
       "      <td>35p2z2</td>\n",
       "      <td>Should I get my liver checked?</td>\n",
       "      <td>24, F, 5\"4-ish, 55kg, White, last month or two...</td>\n",
       "      <td></td>\n",
       "      <td>AskDocs</td>\n",
       "      <td>{'a_id': ['cr6o7ce', 'cr6g59y'], 'text': ['com...</td>\n",
       "      <td>[]</td>\n",
       "      <td>[]</td>\n",
       "      <td>[http://www.drinksmarter.org/handy-tools/unit-...</td>\n",
       "      <td>Should I get my liver checked?</td>\n",
       "      <td>24, F, 5\"4-ish, 55kg, White, last month or two...</td>\n",
       "    </tr>\n",
       "    <tr>\n",
       "      <th>1</th>\n",
       "      <td>8takb2</td>\n",
       "      <td>A strange migrane...starting to ruin my summer...</td>\n",
       "      <td>Ok so I’m 15 a guy roughly 5”9 and 130 pounds ...</td>\n",
       "      <td></td>\n",
       "      <td>AskDocs</td>\n",
       "      <td>{'a_id': ['e16fbn5', 'e16sels'], 'text': ['Sou...</td>\n",
       "      <td>[]</td>\n",
       "      <td>[]</td>\n",
       "      <td>[]</td>\n",
       "      <td>A strange migrane...starting to ruin my summer...</td>\n",
       "      <td>Ok so I’m 15 a guy roughly 5”9 and 130 pounds ...</td>\n",
       "    </tr>\n",
       "    <tr>\n",
       "      <th>2</th>\n",
       "      <td>2gdooo</td>\n",
       "      <td>Rigor with antibiotics? Should I go to the hos...</td>\n",
       "      <td>I'm a sixteen year old female who has been pre...</td>\n",
       "      <td></td>\n",
       "      <td>AskDocs</td>\n",
       "      <td>{'a_id': ['cki7ezg'], 'text': ['This could be ...</td>\n",
       "      <td>[]</td>\n",
       "      <td>[]</td>\n",
       "      <td>[]</td>\n",
       "      <td>Rigor with antibiotics? Should I go to the hos...</td>\n",
       "      <td>I'm a sixteen year old female who has been pre...</td>\n",
       "    </tr>\n",
       "    <tr>\n",
       "      <th>3</th>\n",
       "      <td>38xo1c</td>\n",
       "      <td>Lost ~1.5L of blood, feeling very dizzy and we...</td>\n",
       "      <td>I'm a 19 year old male, 5'9\", and I had a sept...</td>\n",
       "      <td></td>\n",
       "      <td>AskDocs</td>\n",
       "      <td>{'a_id': ['cryoumi', 'crytvxa'], 'text': ['How...</td>\n",
       "      <td>[]</td>\n",
       "      <td>[]</td>\n",
       "      <td>[]</td>\n",
       "      <td>Lost ~1.5L of blood, feeling very dizzy and we...</td>\n",
       "      <td>I'm a 19 year old male, 5'9\", and I had a sept...</td>\n",
       "    </tr>\n",
       "    <tr>\n",
       "      <th>4</th>\n",
       "      <td>2z1869</td>\n",
       "      <td>My rash has stumped an NP, a PA, and three MDs</td>\n",
       "      <td>* 30\\n* female\\n* 5' 8\"\\n* 135 pre-pregnancy, ...</td>\n",
       "      <td></td>\n",
       "      <td>AskDocs</td>\n",
       "      <td>{'a_id': ['cpesedm', 'cpetqe4', 'cpf5d7o', 'cp...</td>\n",
       "      <td>[]</td>\n",
       "      <td>[http://imgur.com/a/M5ZRj]</td>\n",
       "      <td>[]</td>\n",
       "      <td>My rash has stumped an NP, a PA, and three MDs</td>\n",
       "      <td>* 30\\n* female\\n* 5' 8\"\\n* 135 pre-pregnancy, ...</td>\n",
       "    </tr>\n",
       "  </tbody>\n",
       "</table>\n",
       "</div>"
      ],
      "text/plain": [
       "     q_id                                              title  \\\n",
       "0  35p2z2                     Should I get my liver checked?   \n",
       "1  8takb2  A strange migrane...starting to ruin my summer...   \n",
       "2  2gdooo  Rigor with antibiotics? Should I go to the hos...   \n",
       "3  38xo1c  Lost ~1.5L of blood, feeling very dizzy and we...   \n",
       "4  2z1869     My rash has stumped an NP, a PA, and three MDs   \n",
       "\n",
       "                                            selftext document subreddit  \\\n",
       "0  24, F, 5\"4-ish, 55kg, White, last month or two...            AskDocs   \n",
       "1  Ok so I’m 15 a guy roughly 5”9 and 130 pounds ...            AskDocs   \n",
       "2  I'm a sixteen year old female who has been pre...            AskDocs   \n",
       "3  I'm a 19 year old male, 5'9\", and I had a sept...            AskDocs   \n",
       "4  * 30\\n* female\\n* 5' 8\"\\n* 135 pre-pregnancy, ...            AskDocs   \n",
       "\n",
       "                                             answers title_urls  \\\n",
       "0  {'a_id': ['cr6o7ce', 'cr6g59y'], 'text': ['com...         []   \n",
       "1  {'a_id': ['e16fbn5', 'e16sels'], 'text': ['Sou...         []   \n",
       "2  {'a_id': ['cki7ezg'], 'text': ['This could be ...         []   \n",
       "3  {'a_id': ['cryoumi', 'crytvxa'], 'text': ['How...         []   \n",
       "4  {'a_id': ['cpesedm', 'cpetqe4', 'cpf5d7o', 'cp...         []   \n",
       "\n",
       "                selftext_urls  \\\n",
       "0                          []   \n",
       "1                          []   \n",
       "2                          []   \n",
       "3                          []   \n",
       "4  [http://imgur.com/a/M5ZRj]   \n",
       "\n",
       "                                        answers_urls  \\\n",
       "0  [http://www.drinksmarter.org/handy-tools/unit-...   \n",
       "1                                                 []   \n",
       "2                                                 []   \n",
       "3                                                 []   \n",
       "4                                                 []   \n",
       "\n",
       "                                         title_clean  \\\n",
       "0                     Should I get my liver checked?   \n",
       "1  A strange migrane...starting to ruin my summer...   \n",
       "2  Rigor with antibiotics? Should I go to the hos...   \n",
       "3  Lost ~1.5L of blood, feeling very dizzy and we...   \n",
       "4     My rash has stumped an NP, a PA, and three MDs   \n",
       "\n",
       "                                      selftext_clean  \n",
       "0  24, F, 5\"4-ish, 55kg, White, last month or two...  \n",
       "1  Ok so I’m 15 a guy roughly 5”9 and 130 pounds ...  \n",
       "2  I'm a sixteen year old female who has been pre...  \n",
       "3  I'm a 19 year old male, 5'9\", and I had a sept...  \n",
       "4  * 30\\n* female\\n* 5' 8\"\\n* 135 pre-pregnancy, ...  "
      ]
     },
     "execution_count": 37,
     "metadata": {},
     "output_type": "execute_result"
    }
   ],
   "source": [
    "sampled_train_df"
   ]
  },
  {
   "cell_type": "code",
   "execution_count": 38,
   "id": "bd5735fe",
   "metadata": {},
   "outputs": [
    {
     "data": {
      "text/html": [
       "<div>\n",
       "<style scoped>\n",
       "    .dataframe tbody tr th:only-of-type {\n",
       "        vertical-align: middle;\n",
       "    }\n",
       "\n",
       "    .dataframe tbody tr th {\n",
       "        vertical-align: top;\n",
       "    }\n",
       "\n",
       "    .dataframe thead th {\n",
       "        text-align: right;\n",
       "    }\n",
       "</style>\n",
       "<table border=\"1\" class=\"dataframe\">\n",
       "  <thead>\n",
       "    <tr style=\"text-align: right;\">\n",
       "      <th></th>\n",
       "      <th>q_id</th>\n",
       "      <th>title</th>\n",
       "      <th>selftext</th>\n",
       "      <th>document</th>\n",
       "      <th>subreddit</th>\n",
       "      <th>answers</th>\n",
       "      <th>title_urls</th>\n",
       "      <th>selftext_urls</th>\n",
       "      <th>answers_urls</th>\n",
       "      <th>title_clean</th>\n",
       "      <th>selftext_clean</th>\n",
       "    </tr>\n",
       "  </thead>\n",
       "  <tbody>\n",
       "    <tr>\n",
       "      <th>0</th>\n",
       "      <td>35p2z2</td>\n",
       "      <td>Should I get my liver checked?</td>\n",
       "      <td>24, F, 5\"4-ish, 55kg, White, last month or two...</td>\n",
       "      <td></td>\n",
       "      <td>AskDocs</td>\n",
       "      <td>{'a_id': ['cr6o7ce', 'cr6g59y'], 'text': ['com...</td>\n",
       "      <td>[]</td>\n",
       "      <td>[]</td>\n",
       "      <td>[http://www.drinksmarter.org/handy-tools/unit-...</td>\n",
       "      <td>Should I get my liver checked?</td>\n",
       "      <td>24, F, 5\"4-ish, 55kg, White, last month or two...</td>\n",
       "    </tr>\n",
       "    <tr>\n",
       "      <th>1</th>\n",
       "      <td>8takb2</td>\n",
       "      <td>A strange migrane...starting to ruin my summer...</td>\n",
       "      <td>Ok so I’m 15 a guy roughly 5”9 and 130 pounds ...</td>\n",
       "      <td></td>\n",
       "      <td>AskDocs</td>\n",
       "      <td>{'a_id': ['e16fbn5', 'e16sels'], 'text': ['Sou...</td>\n",
       "      <td>[]</td>\n",
       "      <td>[]</td>\n",
       "      <td>[]</td>\n",
       "      <td>A strange migrane...starting to ruin my summer...</td>\n",
       "      <td>Ok so I’m 15 a guy roughly 5”9 and 130 pounds ...</td>\n",
       "    </tr>\n",
       "    <tr>\n",
       "      <th>2</th>\n",
       "      <td>2gdooo</td>\n",
       "      <td>Rigor with antibiotics? Should I go to the hos...</td>\n",
       "      <td>I'm a sixteen year old female who has been pre...</td>\n",
       "      <td></td>\n",
       "      <td>AskDocs</td>\n",
       "      <td>{'a_id': ['cki7ezg'], 'text': ['This could be ...</td>\n",
       "      <td>[]</td>\n",
       "      <td>[]</td>\n",
       "      <td>[]</td>\n",
       "      <td>Rigor with antibiotics? Should I go to the hos...</td>\n",
       "      <td>I'm a sixteen year old female who has been pre...</td>\n",
       "    </tr>\n",
       "    <tr>\n",
       "      <th>3</th>\n",
       "      <td>38xo1c</td>\n",
       "      <td>Lost ~1.5L of blood, feeling very dizzy and we...</td>\n",
       "      <td>I'm a 19 year old male, 5'9\", and I had a sept...</td>\n",
       "      <td></td>\n",
       "      <td>AskDocs</td>\n",
       "      <td>{'a_id': ['cryoumi', 'crytvxa'], 'text': ['How...</td>\n",
       "      <td>[]</td>\n",
       "      <td>[]</td>\n",
       "      <td>[]</td>\n",
       "      <td>Lost ~1.5L of blood, feeling very dizzy and we...</td>\n",
       "      <td>I'm a 19 year old male, 5'9\", and I had a sept...</td>\n",
       "    </tr>\n",
       "    <tr>\n",
       "      <th>4</th>\n",
       "      <td>2z1869</td>\n",
       "      <td>My rash has stumped an NP, a PA, and three MDs</td>\n",
       "      <td>* 30\\n* female\\n* 5' 8\"\\n* 135 pre-pregnancy, ...</td>\n",
       "      <td></td>\n",
       "      <td>AskDocs</td>\n",
       "      <td>{'a_id': ['cpesedm', 'cpetqe4', 'cpf5d7o', 'cp...</td>\n",
       "      <td>[]</td>\n",
       "      <td>[http://imgur.com/a/M5ZRj]</td>\n",
       "      <td>[]</td>\n",
       "      <td>My rash has stumped an NP, a PA, and three MDs</td>\n",
       "      <td>* 30\\n* female\\n* 5' 8\"\\n* 135 pre-pregnancy, ...</td>\n",
       "    </tr>\n",
       "  </tbody>\n",
       "</table>\n",
       "</div>"
      ],
      "text/plain": [
       "     q_id                                              title  \\\n",
       "0  35p2z2                     Should I get my liver checked?   \n",
       "1  8takb2  A strange migrane...starting to ruin my summer...   \n",
       "2  2gdooo  Rigor with antibiotics? Should I go to the hos...   \n",
       "3  38xo1c  Lost ~1.5L of blood, feeling very dizzy and we...   \n",
       "4  2z1869     My rash has stumped an NP, a PA, and three MDs   \n",
       "\n",
       "                                            selftext document subreddit  \\\n",
       "0  24, F, 5\"4-ish, 55kg, White, last month or two...            AskDocs   \n",
       "1  Ok so I’m 15 a guy roughly 5”9 and 130 pounds ...            AskDocs   \n",
       "2  I'm a sixteen year old female who has been pre...            AskDocs   \n",
       "3  I'm a 19 year old male, 5'9\", and I had a sept...            AskDocs   \n",
       "4  * 30\\n* female\\n* 5' 8\"\\n* 135 pre-pregnancy, ...            AskDocs   \n",
       "\n",
       "                                             answers title_urls  \\\n",
       "0  {'a_id': ['cr6o7ce', 'cr6g59y'], 'text': ['com...         []   \n",
       "1  {'a_id': ['e16fbn5', 'e16sels'], 'text': ['Sou...         []   \n",
       "2  {'a_id': ['cki7ezg'], 'text': ['This could be ...         []   \n",
       "3  {'a_id': ['cryoumi', 'crytvxa'], 'text': ['How...         []   \n",
       "4  {'a_id': ['cpesedm', 'cpetqe4', 'cpf5d7o', 'cp...         []   \n",
       "\n",
       "                selftext_urls  \\\n",
       "0                          []   \n",
       "1                          []   \n",
       "2                          []   \n",
       "3                          []   \n",
       "4  [http://imgur.com/a/M5ZRj]   \n",
       "\n",
       "                                        answers_urls  \\\n",
       "0  [http://www.drinksmarter.org/handy-tools/unit-...   \n",
       "1                                                 []   \n",
       "2                                                 []   \n",
       "3                                                 []   \n",
       "4                                                 []   \n",
       "\n",
       "                                         title_clean  \\\n",
       "0                     Should I get my liver checked?   \n",
       "1  A strange migrane...starting to ruin my summer...   \n",
       "2  Rigor with antibiotics? Should I go to the hos...   \n",
       "3  Lost ~1.5L of blood, feeling very dizzy and we...   \n",
       "4     My rash has stumped an NP, a PA, and three MDs   \n",
       "\n",
       "                                      selftext_clean  \n",
       "0  24, F, 5\"4-ish, 55kg, White, last month or two...  \n",
       "1  Ok so I’m 15 a guy roughly 5”9 and 130 pounds ...  \n",
       "2  I'm a sixteen year old female who has been pre...  \n",
       "3  I'm a 19 year old male, 5'9\", and I had a sept...  \n",
       "4  * 30\\n* female\\n* 5' 8\"\\n* 135 pre-pregnancy, ...  "
      ]
     },
     "execution_count": 38,
     "metadata": {},
     "output_type": "execute_result"
    }
   ],
   "source": [
    "sampled_train_df"
   ]
  },
  {
   "cell_type": "code",
   "execution_count": 42,
   "id": "313c30cd",
   "metadata": {},
   "outputs": [],
   "source": [
    "\n",
    "# Save \n",
    "sampled_train_df[[\"q_id\",\"title_clean\",\"selftext_clean\"]].to_parquet(\"../data/raw/askdocs/askdocs_sample5.parquet\", index=False)"
   ]
  },
  {
   "cell_type": "markdown",
   "id": "cf5a58a3",
   "metadata": {},
   "source": [
    "Viewing Gemini results"
   ]
  },
  {
   "cell_type": "code",
   "execution_count": 9,
   "id": "7babd968",
   "metadata": {},
   "outputs": [],
   "source": [
    "result = pd.read_csv(\"../results/exp4_askdocs_gemini.csv\", keep_default_na=False)"
   ]
  },
  {
   "cell_type": "code",
   "execution_count": 29,
   "id": "47bd43f3",
   "metadata": {},
   "outputs": [
    {
     "data": {
      "text/html": [
       "<div>\n",
       "<style scoped>\n",
       "    .dataframe tbody tr th:only-of-type {\n",
       "        vertical-align: middle;\n",
       "    }\n",
       "\n",
       "    .dataframe tbody tr th {\n",
       "        vertical-align: top;\n",
       "    }\n",
       "\n",
       "    .dataframe thead th {\n",
       "        text-align: right;\n",
       "    }\n",
       "</style>\n",
       "<table border=\"1\" class=\"dataframe\">\n",
       "  <thead>\n",
       "    <tr style=\"text-align: right;\">\n",
       "      <th></th>\n",
       "      <th>id</th>\n",
       "      <th>model</th>\n",
       "      <th>prediction</th>\n",
       "      <th>meta</th>\n",
       "    </tr>\n",
       "  </thead>\n",
       "  <tbody>\n",
       "    <tr>\n",
       "      <th>0</th>\n",
       "      <td>9loutr</td>\n",
       "      <td>gemini</td>\n",
       "      <td>Discovering a hard, disc-like area in your bre...</td>\n",
       "      <td>{\"note\": \"real-world eval\"}</td>\n",
       "    </tr>\n",
       "    <tr>\n",
       "      <th>1</th>\n",
       "      <td>4fkkjd</td>\n",
       "      <td>gemini</td>\n",
       "      <td>Yes, you should see a physician as soon as pos...</td>\n",
       "      <td>{\"note\": \"real-world eval\"}</td>\n",
       "    </tr>\n",
       "    <tr>\n",
       "      <th>2</th>\n",
       "      <td>7m55bg</td>\n",
       "      <td>gemini</td>\n",
       "      <td>The oxygen gas itself does not expire or go ba...</td>\n",
       "      <td>{\"note\": \"real-world eval\"}</td>\n",
       "    </tr>\n",
       "    <tr>\n",
       "      <th>3</th>\n",
       "      <td>671fhy</td>\n",
       "      <td>gemini</td>\n",
       "      <td>I am incredibly sorry to hear about your broth...</td>\n",
       "      <td>{\"note\": \"real-world eval\"}</td>\n",
       "    </tr>\n",
       "    <tr>\n",
       "      <th>4</th>\n",
       "      <td>96n2tr</td>\n",
       "      <td>gemini</td>\n",
       "      <td>Based on the typical characteristics used in s...</td>\n",
       "      <td>{\"note\": \"real-world eval\"}</td>\n",
       "    </tr>\n",
       "  </tbody>\n",
       "</table>\n",
       "</div>"
      ],
      "text/plain": [
       "       id   model                                         prediction  \\\n",
       "0  9loutr  gemini  Discovering a hard, disc-like area in your bre...   \n",
       "1  4fkkjd  gemini  Yes, you should see a physician as soon as pos...   \n",
       "2  7m55bg  gemini  The oxygen gas itself does not expire or go ba...   \n",
       "3  671fhy  gemini  I am incredibly sorry to hear about your broth...   \n",
       "4  96n2tr  gemini  Based on the typical characteristics used in s...   \n",
       "\n",
       "                          meta  \n",
       "0  {\"note\": \"real-world eval\"}  \n",
       "1  {\"note\": \"real-world eval\"}  \n",
       "2  {\"note\": \"real-world eval\"}  \n",
       "3  {\"note\": \"real-world eval\"}  \n",
       "4  {\"note\": \"real-world eval\"}  "
      ]
     },
     "execution_count": 29,
     "metadata": {},
     "output_type": "execute_result"
    }
   ],
   "source": [
    "result.head()"
   ]
  },
  {
   "cell_type": "code",
   "execution_count": 30,
   "id": "a35c0817",
   "metadata": {},
   "outputs": [
    {
     "name": "stdout",
     "output_type": "stream",
     "text": [
      "Discovering a hard, disc-like area in your breast can be caused by a number of conditions, and it is essential to have it evaluated by a healthcare professional. Benign (non-cancerous) possibilities include fibroadenomas, which are solid, rubbery lumps, cysts, which are fluid-filled sacs, or dense areas of tissue related to fibrocystic changes. However, a new, hard, or persistent lump can also be a sign of breast cancer. Because it is impossible to determine the cause without a physical examination and likely imaging tests like a mammogram or ultrasound, you should schedule an appointment with your doctor or a gynecologist as soon as possible. Prompt medical evaluation is the only way to get an accurate diagnosis, relieve your anxiety, and ensure you receive any necessary treatment.\n"
     ]
    }
   ],
   "source": [
    "print(result[\"prediction\"][0])"
   ]
  },
  {
   "cell_type": "markdown",
   "id": "70b11804",
   "metadata": {},
   "source": [
    "# Test Dataset"
   ]
  },
  {
   "cell_type": "code",
   "execution_count": 3,
   "id": "cead59eb",
   "metadata": {},
   "outputs": [
    {
     "name": "stdout",
     "output_type": "stream",
     "text": [
      "{'q_id': 'd0fwkq', 'title': 'How do I clean my husbands open wound from limestone crushing his arm??? 33 Male', 'selftext': \"Race: Caucasian  \\nHeight: 5'10  \\nWeight: 200 pounds/90.72 Kilo  \\nMedications: Clindamycin 300MG Capsules taken 3x a day and  Sulfameth/Trimethoprim 800/160MG TB taken 2x a day  \\nThey also prescribed him oxycodone but he refused to fill the prescription as he doesn't want to become addicted to it.  \\n\\n\\nOkay, so a little back story. Yesterday my husband was at work (he works at a monument company and cuts stone) and about 2000 pounds of limestone landed on his left forearm (He moved just in time so it didn't hit and crush his head).  Miraculously it didn't get broken (xrays were taken at hospital) but he has a nasty gash that's an open wound.  The hospital didn't tell him how to clean the area and I can visibly see blood seeping through the gauze and ace bandage as he's sleeping.  We have to go out to get stuff for his arm (gauze and things) and I don't know what else we should get?  They also prescribed him antibiotics, but how do I know if it's infected?    \\nAny help would be greatly appreciated... Oh and what's a good OTC pain killer? He needs something that's decently strong so his arm isn't throbbing while he sleeps.  Thanks in advance.\", 'document': '', 'subreddit': 'AskDocs', 'answers': {'a_id': ['ez9hg94', 'ez9qzj8'], 'text': [\"If it's still actively bleeding he needs to be treated again ASAP. If you can get in with his PCP today do that and make sure you ask the nurse/doctor how to care for the wound. If you can't get in with pcp go to urgent care or the er again if he's still bleeding.\", \"In addition to the advice already given to get the continued bleeding checked out...\\n\\nIf your husband has no history of drug abuse then he really should consider taking the oxycodone, at least to help him sleep at night if not during the day. When used appropriately for a short-term injury, chance of addiction is quite low. Even more so because he's concerned about it. Addiction typically develops from long-term use.\\n\\nOver-the-counter choices would be either naproxen (Aleve) OR ibuprofen (Motrin), but not both in the same day as they are the same class; take with food to reduce chances of developing an ulcer. He can take over-the-counter benadryl with that to increase its effectiveness a little bit. He can also do tylenol between doses. Just follow label instructions.\"], 'score': [4, 2]}, 'title_urls': [], 'selftext_urls': [], 'answers_urls': []}\n"
     ]
    }
   ],
   "source": [
    "# Load English test split\n",
    "test_dataset = load_dataset(\"ju-resplande/askD\", split=\"test_en\")\n",
    "\n",
    "print(test_dataset[0])"
   ]
  },
  {
   "cell_type": "code",
   "execution_count": 43,
   "id": "1d5d32b1",
   "metadata": {},
   "outputs": [],
   "source": [
    "df = pd.DataFrame(test_dataset)"
   ]
  },
  {
   "cell_type": "code",
   "execution_count": 44,
   "id": "5dbc75f4",
   "metadata": {},
   "outputs": [
    {
     "data": {
      "text/html": [
       "<div>\n",
       "<style scoped>\n",
       "    .dataframe tbody tr th:only-of-type {\n",
       "        vertical-align: middle;\n",
       "    }\n",
       "\n",
       "    .dataframe tbody tr th {\n",
       "        vertical-align: top;\n",
       "    }\n",
       "\n",
       "    .dataframe thead th {\n",
       "        text-align: right;\n",
       "    }\n",
       "</style>\n",
       "<table border=\"1\" class=\"dataframe\">\n",
       "  <thead>\n",
       "    <tr style=\"text-align: right;\">\n",
       "      <th></th>\n",
       "      <th>q_id</th>\n",
       "      <th>title</th>\n",
       "      <th>selftext</th>\n",
       "      <th>document</th>\n",
       "      <th>subreddit</th>\n",
       "      <th>answers</th>\n",
       "      <th>title_urls</th>\n",
       "      <th>selftext_urls</th>\n",
       "      <th>answers_urls</th>\n",
       "    </tr>\n",
       "  </thead>\n",
       "  <tbody>\n",
       "    <tr>\n",
       "      <th>0</th>\n",
       "      <td>d0fwkq</td>\n",
       "      <td>How do I clean my husbands open wound from lim...</td>\n",
       "      <td>Race: Caucasian  \\nHeight: 5'10  \\nWeight: 200...</td>\n",
       "      <td></td>\n",
       "      <td>AskDocs</td>\n",
       "      <td>{'a_id': ['ez9hg94', 'ez9qzj8'], 'text': ['If ...</td>\n",
       "      <td>[]</td>\n",
       "      <td>[]</td>\n",
       "      <td>[]</td>\n",
       "    </tr>\n",
       "    <tr>\n",
       "      <th>1</th>\n",
       "      <td>d0g2k1</td>\n",
       "      <td>My upper body is having some sort of reaction ...</td>\n",
       "      <td>My upper body feels like its enduring a consta...</td>\n",
       "      <td></td>\n",
       "      <td>AskDocs</td>\n",
       "      <td>{'a_id': ['ezbvtgo'], 'text': ['I am not a doc...</td>\n",
       "      <td>[]</td>\n",
       "      <td>[]</td>\n",
       "      <td>[]</td>\n",
       "    </tr>\n",
       "    <tr>\n",
       "      <th>2</th>\n",
       "      <td>d0hbbn</td>\n",
       "      <td>I'm afraid I have an undiagnosed mental or per...</td>\n",
       "      <td>I'm a 17 year old white male that is clean. I ...</td>\n",
       "      <td></td>\n",
       "      <td>AskDocs</td>\n",
       "      <td>{'a_id': ['ezaszir'], 'text': ['Possible Antis...</td>\n",
       "      <td>[]</td>\n",
       "      <td>[]</td>\n",
       "      <td>[]</td>\n",
       "    </tr>\n",
       "    <tr>\n",
       "      <th>3</th>\n",
       "      <td>d0i450</td>\n",
       "      <td>I may have accidentally inhaled hair dye for 7...</td>\n",
       "      <td>[deleted]</td>\n",
       "      <td></td>\n",
       "      <td>AskDocs</td>\n",
       "      <td>{'a_id': ['ez9soz4'], 'text': ['You already co...</td>\n",
       "      <td>[]</td>\n",
       "      <td>[]</td>\n",
       "      <td>[]</td>\n",
       "    </tr>\n",
       "    <tr>\n",
       "      <th>4</th>\n",
       "      <td>d0j05h</td>\n",
       "      <td>After bursted Cyst and an operation my girlsfr...</td>\n",
       "      <td>Girl\\nAge:19\\n56kg\\nnonsmoker, otherwise very ...</td>\n",
       "      <td></td>\n",
       "      <td>AskDocs</td>\n",
       "      <td>{'a_id': ['ez9r4d5', 'eza3j35'], 'text': ['Not...</td>\n",
       "      <td>[]</td>\n",
       "      <td>[]</td>\n",
       "      <td>[https://www.womenshealth.gov/a-z-topics/ovari...</td>\n",
       "    </tr>\n",
       "  </tbody>\n",
       "</table>\n",
       "</div>"
      ],
      "text/plain": [
       "     q_id                                              title  \\\n",
       "0  d0fwkq  How do I clean my husbands open wound from lim...   \n",
       "1  d0g2k1  My upper body is having some sort of reaction ...   \n",
       "2  d0hbbn  I'm afraid I have an undiagnosed mental or per...   \n",
       "3  d0i450  I may have accidentally inhaled hair dye for 7...   \n",
       "4  d0j05h  After bursted Cyst and an operation my girlsfr...   \n",
       "\n",
       "                                            selftext document subreddit  \\\n",
       "0  Race: Caucasian  \\nHeight: 5'10  \\nWeight: 200...            AskDocs   \n",
       "1  My upper body feels like its enduring a consta...            AskDocs   \n",
       "2  I'm a 17 year old white male that is clean. I ...            AskDocs   \n",
       "3                                          [deleted]            AskDocs   \n",
       "4  Girl\\nAge:19\\n56kg\\nnonsmoker, otherwise very ...            AskDocs   \n",
       "\n",
       "                                             answers title_urls selftext_urls  \\\n",
       "0  {'a_id': ['ez9hg94', 'ez9qzj8'], 'text': ['If ...         []            []   \n",
       "1  {'a_id': ['ezbvtgo'], 'text': ['I am not a doc...         []            []   \n",
       "2  {'a_id': ['ezaszir'], 'text': ['Possible Antis...         []            []   \n",
       "3  {'a_id': ['ez9soz4'], 'text': ['You already co...         []            []   \n",
       "4  {'a_id': ['ez9r4d5', 'eza3j35'], 'text': ['Not...         []            []   \n",
       "\n",
       "                                        answers_urls  \n",
       "0                                                 []  \n",
       "1                                                 []  \n",
       "2                                                 []  \n",
       "3                                                 []  \n",
       "4  [https://www.womenshealth.gov/a-z-topics/ovari...  "
      ]
     },
     "execution_count": 44,
     "metadata": {},
     "output_type": "execute_result"
    }
   ],
   "source": [
    "df.head()"
   ]
  },
  {
   "cell_type": "code",
   "execution_count": 45,
   "id": "bce28699",
   "metadata": {},
   "outputs": [
    {
     "data": {
      "text/plain": [
       "5198"
      ]
     },
     "execution_count": 45,
     "metadata": {},
     "output_type": "execute_result"
    }
   ],
   "source": [
    "len(df)"
   ]
  },
  {
   "cell_type": "code",
   "execution_count": 46,
   "id": "bdc6406a",
   "metadata": {},
   "outputs": [
    {
     "data": {
      "text/plain": [
       "5198"
      ]
     },
     "execution_count": 46,
     "metadata": {},
     "output_type": "execute_result"
    }
   ],
   "source": [
    "len(df[\"q_id\"].unique())"
   ]
  },
  {
   "cell_type": "code",
   "execution_count": 47,
   "id": "419dba04",
   "metadata": {},
   "outputs": [],
   "source": [
    "# --- Drop [deleted]/[removed]/empty ---\n",
    "BAD = {\"[deleted]\", \"[removed]\"}\n",
    "df = df[~df[\"selftext\"].astype(str).str.strip().isin(BAD)]\n",
    "df = df[~df[\"title\"].astype(str).str.strip().isin(BAD)]\n",
    "df = df[df[\"selftext\"].astype(str).str.strip() != \"\"]\n"
   ]
  },
  {
   "cell_type": "code",
   "execution_count": 48,
   "id": "495b92a3",
   "metadata": {},
   "outputs": [
    {
     "data": {
      "text/plain": [
       "3612"
      ]
     },
     "execution_count": 48,
     "metadata": {},
     "output_type": "execute_result"
    }
   ],
   "source": [
    "len(df)"
   ]
  },
  {
   "cell_type": "code",
   "execution_count": 49,
   "id": "c82657c5",
   "metadata": {},
   "outputs": [
    {
     "data": {
      "text/html": [
       "<div>\n",
       "<style scoped>\n",
       "    .dataframe tbody tr th:only-of-type {\n",
       "        vertical-align: middle;\n",
       "    }\n",
       "\n",
       "    .dataframe tbody tr th {\n",
       "        vertical-align: top;\n",
       "    }\n",
       "\n",
       "    .dataframe thead th {\n",
       "        text-align: right;\n",
       "    }\n",
       "</style>\n",
       "<table border=\"1\" class=\"dataframe\">\n",
       "  <thead>\n",
       "    <tr style=\"text-align: right;\">\n",
       "      <th></th>\n",
       "      <th>q_id</th>\n",
       "      <th>title</th>\n",
       "      <th>selftext</th>\n",
       "      <th>document</th>\n",
       "      <th>subreddit</th>\n",
       "      <th>answers</th>\n",
       "      <th>title_urls</th>\n",
       "      <th>selftext_urls</th>\n",
       "      <th>answers_urls</th>\n",
       "    </tr>\n",
       "  </thead>\n",
       "  <tbody>\n",
       "    <tr>\n",
       "      <th>0</th>\n",
       "      <td>d0fwkq</td>\n",
       "      <td>How do I clean my husbands open wound from lim...</td>\n",
       "      <td>Race: Caucasian  \\nHeight: 5'10  \\nWeight: 200...</td>\n",
       "      <td></td>\n",
       "      <td>AskDocs</td>\n",
       "      <td>{'a_id': ['ez9hg94', 'ez9qzj8'], 'text': ['If ...</td>\n",
       "      <td>[]</td>\n",
       "      <td>[]</td>\n",
       "      <td>[]</td>\n",
       "    </tr>\n",
       "    <tr>\n",
       "      <th>1</th>\n",
       "      <td>d0g2k1</td>\n",
       "      <td>My upper body is having some sort of reaction ...</td>\n",
       "      <td>My upper body feels like its enduring a consta...</td>\n",
       "      <td></td>\n",
       "      <td>AskDocs</td>\n",
       "      <td>{'a_id': ['ezbvtgo'], 'text': ['I am not a doc...</td>\n",
       "      <td>[]</td>\n",
       "      <td>[]</td>\n",
       "      <td>[]</td>\n",
       "    </tr>\n",
       "    <tr>\n",
       "      <th>2</th>\n",
       "      <td>d0hbbn</td>\n",
       "      <td>I'm afraid I have an undiagnosed mental or per...</td>\n",
       "      <td>I'm a 17 year old white male that is clean. I ...</td>\n",
       "      <td></td>\n",
       "      <td>AskDocs</td>\n",
       "      <td>{'a_id': ['ezaszir'], 'text': ['Possible Antis...</td>\n",
       "      <td>[]</td>\n",
       "      <td>[]</td>\n",
       "      <td>[]</td>\n",
       "    </tr>\n",
       "    <tr>\n",
       "      <th>4</th>\n",
       "      <td>d0j05h</td>\n",
       "      <td>After bursted Cyst and an operation my girlsfr...</td>\n",
       "      <td>Girl\\nAge:19\\n56kg\\nnonsmoker, otherwise very ...</td>\n",
       "      <td></td>\n",
       "      <td>AskDocs</td>\n",
       "      <td>{'a_id': ['ez9r4d5', 'eza3j35'], 'text': ['Not...</td>\n",
       "      <td>[]</td>\n",
       "      <td>[]</td>\n",
       "      <td>[https://www.womenshealth.gov/a-z-topics/ovari...</td>\n",
       "    </tr>\n",
       "    <tr>\n",
       "      <th>6</th>\n",
       "      <td>d0kve9</td>\n",
       "      <td>Need advise regarding my Wife's medical case</td>\n",
       "      <td>Respected Doctors ,\\n\\nWe are passing through ...</td>\n",
       "      <td></td>\n",
       "      <td>AskDocs</td>\n",
       "      <td>{'a_id': ['ezb4cib', 'ezaqwtr'], 'text': ['Nee...</td>\n",
       "      <td>[]</td>\n",
       "      <td>[https://drive.google.com/drive/folders/1jxPWr...</td>\n",
       "      <td>[]</td>\n",
       "    </tr>\n",
       "  </tbody>\n",
       "</table>\n",
       "</div>"
      ],
      "text/plain": [
       "     q_id                                              title  \\\n",
       "0  d0fwkq  How do I clean my husbands open wound from lim...   \n",
       "1  d0g2k1  My upper body is having some sort of reaction ...   \n",
       "2  d0hbbn  I'm afraid I have an undiagnosed mental or per...   \n",
       "4  d0j05h  After bursted Cyst and an operation my girlsfr...   \n",
       "6  d0kve9       Need advise regarding my Wife's medical case   \n",
       "\n",
       "                                            selftext document subreddit  \\\n",
       "0  Race: Caucasian  \\nHeight: 5'10  \\nWeight: 200...            AskDocs   \n",
       "1  My upper body feels like its enduring a consta...            AskDocs   \n",
       "2  I'm a 17 year old white male that is clean. I ...            AskDocs   \n",
       "4  Girl\\nAge:19\\n56kg\\nnonsmoker, otherwise very ...            AskDocs   \n",
       "6  Respected Doctors ,\\n\\nWe are passing through ...            AskDocs   \n",
       "\n",
       "                                             answers title_urls  \\\n",
       "0  {'a_id': ['ez9hg94', 'ez9qzj8'], 'text': ['If ...         []   \n",
       "1  {'a_id': ['ezbvtgo'], 'text': ['I am not a doc...         []   \n",
       "2  {'a_id': ['ezaszir'], 'text': ['Possible Antis...         []   \n",
       "4  {'a_id': ['ez9r4d5', 'eza3j35'], 'text': ['Not...         []   \n",
       "6  {'a_id': ['ezb4cib', 'ezaqwtr'], 'text': ['Nee...         []   \n",
       "\n",
       "                                       selftext_urls  \\\n",
       "0                                                 []   \n",
       "1                                                 []   \n",
       "2                                                 []   \n",
       "4                                                 []   \n",
       "6  [https://drive.google.com/drive/folders/1jxPWr...   \n",
       "\n",
       "                                        answers_urls  \n",
       "0                                                 []  \n",
       "1                                                 []  \n",
       "2                                                 []  \n",
       "4  [https://www.womenshealth.gov/a-z-topics/ovari...  \n",
       "6                                                 []  "
      ]
     },
     "execution_count": 49,
     "metadata": {},
     "output_type": "execute_result"
    }
   ],
   "source": [
    "df.head()"
   ]
  },
  {
   "cell_type": "code",
   "execution_count": 50,
   "id": "f1389c5d",
   "metadata": {},
   "outputs": [],
   "source": [
    "# --- Keep clean columns ---\n",
    "df[\"title_clean\"] = df[\"title\"].map(clean_text)\n",
    "df[\"selftext_clean\"] = df[\"selftext\"].map(clean_text)"
   ]
  },
  {
   "cell_type": "code",
   "execution_count": 51,
   "id": "e3ac0c6e",
   "metadata": {},
   "outputs": [
    {
     "data": {
      "text/html": [
       "<div>\n",
       "<style scoped>\n",
       "    .dataframe tbody tr th:only-of-type {\n",
       "        vertical-align: middle;\n",
       "    }\n",
       "\n",
       "    .dataframe tbody tr th {\n",
       "        vertical-align: top;\n",
       "    }\n",
       "\n",
       "    .dataframe thead th {\n",
       "        text-align: right;\n",
       "    }\n",
       "</style>\n",
       "<table border=\"1\" class=\"dataframe\">\n",
       "  <thead>\n",
       "    <tr style=\"text-align: right;\">\n",
       "      <th></th>\n",
       "      <th>q_id</th>\n",
       "      <th>title</th>\n",
       "      <th>selftext</th>\n",
       "      <th>document</th>\n",
       "      <th>subreddit</th>\n",
       "      <th>answers</th>\n",
       "      <th>title_urls</th>\n",
       "      <th>selftext_urls</th>\n",
       "      <th>answers_urls</th>\n",
       "      <th>title_clean</th>\n",
       "      <th>selftext_clean</th>\n",
       "    </tr>\n",
       "  </thead>\n",
       "  <tbody>\n",
       "    <tr>\n",
       "      <th>0</th>\n",
       "      <td>d0fwkq</td>\n",
       "      <td>How do I clean my husbands open wound from lim...</td>\n",
       "      <td>Race: Caucasian  \\nHeight: 5'10  \\nWeight: 200...</td>\n",
       "      <td></td>\n",
       "      <td>AskDocs</td>\n",
       "      <td>{'a_id': ['ez9hg94', 'ez9qzj8'], 'text': ['If ...</td>\n",
       "      <td>[]</td>\n",
       "      <td>[]</td>\n",
       "      <td>[]</td>\n",
       "      <td>How do I clean my husbands open wound from lim...</td>\n",
       "      <td>Race: Caucasian  \\nHeight: 5'10  \\nWeight: 200...</td>\n",
       "    </tr>\n",
       "    <tr>\n",
       "      <th>1</th>\n",
       "      <td>d0g2k1</td>\n",
       "      <td>My upper body is having some sort of reaction ...</td>\n",
       "      <td>My upper body feels like its enduring a consta...</td>\n",
       "      <td></td>\n",
       "      <td>AskDocs</td>\n",
       "      <td>{'a_id': ['ezbvtgo'], 'text': ['I am not a doc...</td>\n",
       "      <td>[]</td>\n",
       "      <td>[]</td>\n",
       "      <td>[]</td>\n",
       "      <td>My upper body is having some sort of reaction ...</td>\n",
       "      <td>My upper body feels like its enduring a consta...</td>\n",
       "    </tr>\n",
       "    <tr>\n",
       "      <th>2</th>\n",
       "      <td>d0hbbn</td>\n",
       "      <td>I'm afraid I have an undiagnosed mental or per...</td>\n",
       "      <td>I'm a 17 year old white male that is clean. I ...</td>\n",
       "      <td></td>\n",
       "      <td>AskDocs</td>\n",
       "      <td>{'a_id': ['ezaszir'], 'text': ['Possible Antis...</td>\n",
       "      <td>[]</td>\n",
       "      <td>[]</td>\n",
       "      <td>[]</td>\n",
       "      <td>I'm afraid I have an undiagnosed mental or per...</td>\n",
       "      <td>I'm a 17 year old white male that is clean. I ...</td>\n",
       "    </tr>\n",
       "    <tr>\n",
       "      <th>4</th>\n",
       "      <td>d0j05h</td>\n",
       "      <td>After bursted Cyst and an operation my girlsfr...</td>\n",
       "      <td>Girl\\nAge:19\\n56kg\\nnonsmoker, otherwise very ...</td>\n",
       "      <td></td>\n",
       "      <td>AskDocs</td>\n",
       "      <td>{'a_id': ['ez9r4d5', 'eza3j35'], 'text': ['Not...</td>\n",
       "      <td>[]</td>\n",
       "      <td>[]</td>\n",
       "      <td>[https://www.womenshealth.gov/a-z-topics/ovari...</td>\n",
       "      <td>After bursted Cyst and an operation my girlsfr...</td>\n",
       "      <td>Girl\\nAge:19\\n56kg\\nnonsmoker, otherwise very ...</td>\n",
       "    </tr>\n",
       "    <tr>\n",
       "      <th>6</th>\n",
       "      <td>d0kve9</td>\n",
       "      <td>Need advise regarding my Wife's medical case</td>\n",
       "      <td>Respected Doctors ,\\n\\nWe are passing through ...</td>\n",
       "      <td></td>\n",
       "      <td>AskDocs</td>\n",
       "      <td>{'a_id': ['ezb4cib', 'ezaqwtr'], 'text': ['Nee...</td>\n",
       "      <td>[]</td>\n",
       "      <td>[https://drive.google.com/drive/folders/1jxPWr...</td>\n",
       "      <td>[]</td>\n",
       "      <td>Need advise regarding my Wife's medical case</td>\n",
       "      <td>Respected Doctors ,\\nWe are passing through gr...</td>\n",
       "    </tr>\n",
       "  </tbody>\n",
       "</table>\n",
       "</div>"
      ],
      "text/plain": [
       "     q_id                                              title  \\\n",
       "0  d0fwkq  How do I clean my husbands open wound from lim...   \n",
       "1  d0g2k1  My upper body is having some sort of reaction ...   \n",
       "2  d0hbbn  I'm afraid I have an undiagnosed mental or per...   \n",
       "4  d0j05h  After bursted Cyst and an operation my girlsfr...   \n",
       "6  d0kve9       Need advise regarding my Wife's medical case   \n",
       "\n",
       "                                            selftext document subreddit  \\\n",
       "0  Race: Caucasian  \\nHeight: 5'10  \\nWeight: 200...            AskDocs   \n",
       "1  My upper body feels like its enduring a consta...            AskDocs   \n",
       "2  I'm a 17 year old white male that is clean. I ...            AskDocs   \n",
       "4  Girl\\nAge:19\\n56kg\\nnonsmoker, otherwise very ...            AskDocs   \n",
       "6  Respected Doctors ,\\n\\nWe are passing through ...            AskDocs   \n",
       "\n",
       "                                             answers title_urls  \\\n",
       "0  {'a_id': ['ez9hg94', 'ez9qzj8'], 'text': ['If ...         []   \n",
       "1  {'a_id': ['ezbvtgo'], 'text': ['I am not a doc...         []   \n",
       "2  {'a_id': ['ezaszir'], 'text': ['Possible Antis...         []   \n",
       "4  {'a_id': ['ez9r4d5', 'eza3j35'], 'text': ['Not...         []   \n",
       "6  {'a_id': ['ezb4cib', 'ezaqwtr'], 'text': ['Nee...         []   \n",
       "\n",
       "                                       selftext_urls  \\\n",
       "0                                                 []   \n",
       "1                                                 []   \n",
       "2                                                 []   \n",
       "4                                                 []   \n",
       "6  [https://drive.google.com/drive/folders/1jxPWr...   \n",
       "\n",
       "                                        answers_urls  \\\n",
       "0                                                 []   \n",
       "1                                                 []   \n",
       "2                                                 []   \n",
       "4  [https://www.womenshealth.gov/a-z-topics/ovari...   \n",
       "6                                                 []   \n",
       "\n",
       "                                         title_clean  \\\n",
       "0  How do I clean my husbands open wound from lim...   \n",
       "1  My upper body is having some sort of reaction ...   \n",
       "2  I'm afraid I have an undiagnosed mental or per...   \n",
       "4  After bursted Cyst and an operation my girlsfr...   \n",
       "6       Need advise regarding my Wife's medical case   \n",
       "\n",
       "                                      selftext_clean  \n",
       "0  Race: Caucasian  \\nHeight: 5'10  \\nWeight: 200...  \n",
       "1  My upper body feels like its enduring a consta...  \n",
       "2  I'm a 17 year old white male that is clean. I ...  \n",
       "4  Girl\\nAge:19\\n56kg\\nnonsmoker, otherwise very ...  \n",
       "6  Respected Doctors ,\\nWe are passing through gr...  "
      ]
     },
     "execution_count": 51,
     "metadata": {},
     "output_type": "execute_result"
    }
   ],
   "source": [
    "df.head()"
   ]
  },
  {
   "cell_type": "code",
   "execution_count": 52,
   "id": "a50fcc8d",
   "metadata": {},
   "outputs": [],
   "source": [
    "# --- Sample 30 for experiment ---\n",
    "sample = df.sample(n=30, random_state=42).reset_index(drop=True)"
   ]
  },
  {
   "cell_type": "code",
   "execution_count": 53,
   "id": "dff633d0",
   "metadata": {},
   "outputs": [
    {
     "data": {
      "text/html": [
       "<div>\n",
       "<style scoped>\n",
       "    .dataframe tbody tr th:only-of-type {\n",
       "        vertical-align: middle;\n",
       "    }\n",
       "\n",
       "    .dataframe tbody tr th {\n",
       "        vertical-align: top;\n",
       "    }\n",
       "\n",
       "    .dataframe thead th {\n",
       "        text-align: right;\n",
       "    }\n",
       "</style>\n",
       "<table border=\"1\" class=\"dataframe\">\n",
       "  <thead>\n",
       "    <tr style=\"text-align: right;\">\n",
       "      <th></th>\n",
       "      <th>q_id</th>\n",
       "      <th>title</th>\n",
       "      <th>selftext</th>\n",
       "      <th>document</th>\n",
       "      <th>subreddit</th>\n",
       "      <th>answers</th>\n",
       "      <th>title_urls</th>\n",
       "      <th>selftext_urls</th>\n",
       "      <th>answers_urls</th>\n",
       "      <th>title_clean</th>\n",
       "      <th>selftext_clean</th>\n",
       "    </tr>\n",
       "  </thead>\n",
       "  <tbody>\n",
       "    <tr>\n",
       "      <th>0</th>\n",
       "      <td>djt2fh</td>\n",
       "      <td>Unusual (and life-destroying) gyno symptoms</td>\n",
       "      <td>Hi there, I'm writing here as a last resort as...</td>\n",
       "      <td></td>\n",
       "      <td>AskDocs</td>\n",
       "      <td>{'a_id': ['f492b1u', 'f494c33', 'f49dyve', 'f4...</td>\n",
       "      <td>[]</td>\n",
       "      <td>[]</td>\n",
       "      <td>[https://www.groupbstrepinternational.org/what...</td>\n",
       "      <td>Unusual (and life-destroying) gyno symptoms</td>\n",
       "      <td>Hi there, I'm writing here as a last resort as...</td>\n",
       "    </tr>\n",
       "    <tr>\n",
       "      <th>1</th>\n",
       "      <td>695g7e</td>\n",
       "      <td>Every time I eat food, I feel a dull ache in t...</td>\n",
       "      <td>Every time I eat any kind of food (though it d...</td>\n",
       "      <td></td>\n",
       "      <td>AskDocs</td>\n",
       "      <td>{'a_id': ['dh4156s', 'dh43cq5', 'dh41b9k'], 't...</td>\n",
       "      <td>[]</td>\n",
       "      <td>[]</td>\n",
       "      <td>[]</td>\n",
       "      <td>Every time I eat food, I feel a dull ache in t...</td>\n",
       "      <td>Every time I eat any kind of food (though it d...</td>\n",
       "    </tr>\n",
       "    <tr>\n",
       "      <th>2</th>\n",
       "      <td>d129bf</td>\n",
       "      <td>Extreme aggression outbursts. 30M</td>\n",
       "      <td>I have been having aggression issues since, I ...</td>\n",
       "      <td></td>\n",
       "      <td>AskDocs</td>\n",
       "      <td>{'a_id': ['ezho53q', 'ezh642f', 'ezh5g09'], 't...</td>\n",
       "      <td>[]</td>\n",
       "      <td>[]</td>\n",
       "      <td>[]</td>\n",
       "      <td>Extreme aggression outbursts. 30M</td>\n",
       "      <td>I have been having aggression issues since, I ...</td>\n",
       "    </tr>\n",
       "    <tr>\n",
       "      <th>3</th>\n",
       "      <td>eeyse3</td>\n",
       "      <td>Need advice about Hypertensive Crisis. Worried...</td>\n",
       "      <td>My mum( 60F ) was admitted to the emergency ro...</td>\n",
       "      <td></td>\n",
       "      <td>AskDocs</td>\n",
       "      <td>{'a_id': ['fbxseg6', 'fbxcg62'], 'text': ['Sup...</td>\n",
       "      <td>[]</td>\n",
       "      <td>[]</td>\n",
       "      <td>[]</td>\n",
       "      <td>Need advice about Hypertensive Crisis. Worried...</td>\n",
       "      <td>My mum( 60F ) was admitted to the emergency ro...</td>\n",
       "    </tr>\n",
       "    <tr>\n",
       "      <th>4</th>\n",
       "      <td>d9ngm9</td>\n",
       "      <td>Can Marijuana/Cannabis Oil help with reflux?</td>\n",
       "      <td>30M, 6ft, 187ibs, had gallbladder removed 4 ye...</td>\n",
       "      <td></td>\n",
       "      <td>AskDocs</td>\n",
       "      <td>{'a_id': ['f1k5a2t'], 'text': ['You'll be hard...</td>\n",
       "      <td>[]</td>\n",
       "      <td>[]</td>\n",
       "      <td>[]</td>\n",
       "      <td>Can Marijuana/Cannabis Oil help with reflux?</td>\n",
       "      <td>30M, 6ft, 187ibs, had gallbladder removed 4 ye...</td>\n",
       "    </tr>\n",
       "  </tbody>\n",
       "</table>\n",
       "</div>"
      ],
      "text/plain": [
       "     q_id                                              title  \\\n",
       "0  djt2fh        Unusual (and life-destroying) gyno symptoms   \n",
       "1  695g7e  Every time I eat food, I feel a dull ache in t...   \n",
       "2  d129bf                  Extreme aggression outbursts. 30M   \n",
       "3  eeyse3  Need advice about Hypertensive Crisis. Worried...   \n",
       "4  d9ngm9       Can Marijuana/Cannabis Oil help with reflux?   \n",
       "\n",
       "                                            selftext document subreddit  \\\n",
       "0  Hi there, I'm writing here as a last resort as...            AskDocs   \n",
       "1  Every time I eat any kind of food (though it d...            AskDocs   \n",
       "2  I have been having aggression issues since, I ...            AskDocs   \n",
       "3  My mum( 60F ) was admitted to the emergency ro...            AskDocs   \n",
       "4  30M, 6ft, 187ibs, had gallbladder removed 4 ye...            AskDocs   \n",
       "\n",
       "                                             answers title_urls selftext_urls  \\\n",
       "0  {'a_id': ['f492b1u', 'f494c33', 'f49dyve', 'f4...         []            []   \n",
       "1  {'a_id': ['dh4156s', 'dh43cq5', 'dh41b9k'], 't...         []            []   \n",
       "2  {'a_id': ['ezho53q', 'ezh642f', 'ezh5g09'], 't...         []            []   \n",
       "3  {'a_id': ['fbxseg6', 'fbxcg62'], 'text': ['Sup...         []            []   \n",
       "4  {'a_id': ['f1k5a2t'], 'text': ['You'll be hard...         []            []   \n",
       "\n",
       "                                        answers_urls  \\\n",
       "0  [https://www.groupbstrepinternational.org/what...   \n",
       "1                                                 []   \n",
       "2                                                 []   \n",
       "3                                                 []   \n",
       "4                                                 []   \n",
       "\n",
       "                                         title_clean  \\\n",
       "0        Unusual (and life-destroying) gyno symptoms   \n",
       "1  Every time I eat food, I feel a dull ache in t...   \n",
       "2                  Extreme aggression outbursts. 30M   \n",
       "3  Need advice about Hypertensive Crisis. Worried...   \n",
       "4       Can Marijuana/Cannabis Oil help with reflux?   \n",
       "\n",
       "                                      selftext_clean  \n",
       "0  Hi there, I'm writing here as a last resort as...  \n",
       "1  Every time I eat any kind of food (though it d...  \n",
       "2  I have been having aggression issues since, I ...  \n",
       "3  My mum( 60F ) was admitted to the emergency ro...  \n",
       "4  30M, 6ft, 187ibs, had gallbladder removed 4 ye...  "
      ]
     },
     "execution_count": 53,
     "metadata": {},
     "output_type": "execute_result"
    }
   ],
   "source": [
    "sample.head()"
   ]
  },
  {
   "cell_type": "code",
   "execution_count": 55,
   "id": "63ec8d9f",
   "metadata": {},
   "outputs": [],
   "source": [
    "#save \n",
    "sample[[\"q_id\",\"title_clean\",\"selftext_clean\"]].to_parquet(\"../data/processed/askdocs/askdocs_test_set.parquet\")"
   ]
  },
  {
   "cell_type": "code",
   "execution_count": 56,
   "id": "d4a1ba93",
   "metadata": {},
   "outputs": [
    {
     "data": {
      "text/html": [
       "<div>\n",
       "<style scoped>\n",
       "    .dataframe tbody tr th:only-of-type {\n",
       "        vertical-align: middle;\n",
       "    }\n",
       "\n",
       "    .dataframe tbody tr th {\n",
       "        vertical-align: top;\n",
       "    }\n",
       "\n",
       "    .dataframe thead th {\n",
       "        text-align: right;\n",
       "    }\n",
       "</style>\n",
       "<table border=\"1\" class=\"dataframe\">\n",
       "  <thead>\n",
       "    <tr style=\"text-align: right;\">\n",
       "      <th></th>\n",
       "      <th>q_id</th>\n",
       "      <th>title_clean</th>\n",
       "      <th>selftext_clean</th>\n",
       "    </tr>\n",
       "  </thead>\n",
       "  <tbody>\n",
       "    <tr>\n",
       "      <th>0</th>\n",
       "      <td>djt2fh</td>\n",
       "      <td>Unusual (and life-destroying) gyno symptoms</td>\n",
       "      <td>Hi there, I'm writing here as a last resort as...</td>\n",
       "    </tr>\n",
       "    <tr>\n",
       "      <th>1</th>\n",
       "      <td>695g7e</td>\n",
       "      <td>Every time I eat food, I feel a dull ache in t...</td>\n",
       "      <td>Every time I eat any kind of food (though it d...</td>\n",
       "    </tr>\n",
       "    <tr>\n",
       "      <th>2</th>\n",
       "      <td>d129bf</td>\n",
       "      <td>Extreme aggression outbursts. 30M</td>\n",
       "      <td>I have been having aggression issues since, I ...</td>\n",
       "    </tr>\n",
       "    <tr>\n",
       "      <th>3</th>\n",
       "      <td>eeyse3</td>\n",
       "      <td>Need advice about Hypertensive Crisis. Worried...</td>\n",
       "      <td>My mum( 60F ) was admitted to the emergency ro...</td>\n",
       "    </tr>\n",
       "    <tr>\n",
       "      <th>4</th>\n",
       "      <td>d9ngm9</td>\n",
       "      <td>Can Marijuana/Cannabis Oil help with reflux?</td>\n",
       "      <td>30M, 6ft, 187ibs, had gallbladder removed 4 ye...</td>\n",
       "    </tr>\n",
       "  </tbody>\n",
       "</table>\n",
       "</div>"
      ],
      "text/plain": [
       "     q_id                                        title_clean  \\\n",
       "0  djt2fh        Unusual (and life-destroying) gyno symptoms   \n",
       "1  695g7e  Every time I eat food, I feel a dull ache in t...   \n",
       "2  d129bf                  Extreme aggression outbursts. 30M   \n",
       "3  eeyse3  Need advice about Hypertensive Crisis. Worried...   \n",
       "4  d9ngm9       Can Marijuana/Cannabis Oil help with reflux?   \n",
       "\n",
       "                                      selftext_clean  \n",
       "0  Hi there, I'm writing here as a last resort as...  \n",
       "1  Every time I eat any kind of food (though it d...  \n",
       "2  I have been having aggression issues since, I ...  \n",
       "3  My mum( 60F ) was admitted to the emergency ro...  \n",
       "4  30M, 6ft, 187ibs, had gallbladder removed 4 ye...  "
      ]
     },
     "execution_count": 56,
     "metadata": {},
     "output_type": "execute_result"
    }
   ],
   "source": [
    "test = pd.read_parquet(\"../data/processed/askdocs/askdocs_test_set.parquet\")\n",
    "test.head()"
   ]
  },
  {
   "cell_type": "code",
   "execution_count": null,
   "id": "44e42c93",
   "metadata": {},
   "outputs": [],
   "source": []
  }
 ],
 "metadata": {
  "kernelspec": {
   "display_name": "closed-faithful",
   "language": "python",
   "name": "python3"
  },
  "language_info": {
   "codemirror_mode": {
    "name": "ipython",
    "version": 3
   },
   "file_extension": ".py",
   "mimetype": "text/x-python",
   "name": "python",
   "nbconvert_exporter": "python",
   "pygments_lexer": "ipython3",
   "version": "3.11.2"
  }
 },
 "nbformat": 4,
 "nbformat_minor": 5
}
