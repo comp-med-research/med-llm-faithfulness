{
  "cells": [
    {
      "cell_type": "markdown",
      "metadata": {},
      "source": [
        "# Experiment 4: Real-World Evaluation – Analysis\n",
        "\n",
        "This notebook aggregates results, computes metrics, and renders plots for Experiment 4.\n",
        "\n"
      ]
    }
  ],
  "metadata": {
    "language_info": {
      "name": "python"
    }
  },
  "nbformat": 4,
  "nbformat_minor": 2
}
