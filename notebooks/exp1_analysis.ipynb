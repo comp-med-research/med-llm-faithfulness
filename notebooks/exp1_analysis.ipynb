{
  "cells": [
    {
      "cell_type": "markdown",
      "metadata": {},
      "source": [
        "# Experiment 1: Causal Ablation – Analysis\n",
        "\n",
        "This notebook aggregates results, computes metrics, and renders plots for Experiment 1.\n",
        "\n"
      ]
    }
  ],
  "metadata": {
    "language_info": {
      "name": "python"
    }
  },
  "nbformat": 4,
  "nbformat_minor": 2
}
